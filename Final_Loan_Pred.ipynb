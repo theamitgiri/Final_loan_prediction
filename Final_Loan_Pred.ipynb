{
 "cells": [
  {
   "cell_type": "code",
   "execution_count": 1,
   "id": "1c505e39",
   "metadata": {},
   "outputs": [],
   "source": [
    "import pandas as pd\n",
    "import numpy as np\n",
    "import seaborn as sns\n",
    "import matplotlib.pyplot as plt\n",
    "%matplotlib inline"
   ]
  },
  {
   "cell_type": "code",
   "execution_count": 2,
   "id": "fe8002b7",
   "metadata": {},
   "outputs": [],
   "source": [
    "datatrain = pd.read_csv(\"credit_train.csv\")"
   ]
  },
  {
   "cell_type": "code",
   "execution_count": 3,
   "id": "b8bb5b33",
   "metadata": {},
   "outputs": [
    {
     "data": {
      "text/html": [
       "<div>\n",
       "<style scoped>\n",
       "    .dataframe tbody tr th:only-of-type {\n",
       "        vertical-align: middle;\n",
       "    }\n",
       "\n",
       "    .dataframe tbody tr th {\n",
       "        vertical-align: top;\n",
       "    }\n",
       "\n",
       "    .dataframe thead th {\n",
       "        text-align: right;\n",
       "    }\n",
       "</style>\n",
       "<table border=\"1\" class=\"dataframe\">\n",
       "  <thead>\n",
       "    <tr style=\"text-align: right;\">\n",
       "      <th></th>\n",
       "      <th>Loan ID</th>\n",
       "      <th>Customer ID</th>\n",
       "      <th>Loan Status</th>\n",
       "      <th>Current Loan Amount</th>\n",
       "      <th>Term</th>\n",
       "      <th>Credit Score</th>\n",
       "      <th>Annual Income</th>\n",
       "      <th>Years in current job</th>\n",
       "      <th>Home Ownership</th>\n",
       "      <th>Purpose</th>\n",
       "      <th>Monthly Debt</th>\n",
       "      <th>Years of Credit History</th>\n",
       "      <th>Months since last delinquent</th>\n",
       "      <th>Number of Open Accounts</th>\n",
       "      <th>Number of Credit Problems</th>\n",
       "      <th>Current Credit Balance</th>\n",
       "      <th>Maximum Open Credit</th>\n",
       "      <th>Bankruptcies</th>\n",
       "      <th>Tax Liens</th>\n",
       "    </tr>\n",
       "  </thead>\n",
       "  <tbody>\n",
       "    <tr>\n",
       "      <th>0</th>\n",
       "      <td>14dd8831-6af5-400b-83ec-68e61888a048</td>\n",
       "      <td>981165ec-3274-42f5-a3b4-d104041a9ca9</td>\n",
       "      <td>Fully Paid</td>\n",
       "      <td>445412.0</td>\n",
       "      <td>Short Term</td>\n",
       "      <td>709.0</td>\n",
       "      <td>1167493.0</td>\n",
       "      <td>8 years</td>\n",
       "      <td>Home Mortgage</td>\n",
       "      <td>Home Improvements</td>\n",
       "      <td>5214.74</td>\n",
       "      <td>17.2</td>\n",
       "      <td>NaN</td>\n",
       "      <td>6.0</td>\n",
       "      <td>1.0</td>\n",
       "      <td>228190.0</td>\n",
       "      <td>416746.0</td>\n",
       "      <td>1.0</td>\n",
       "      <td>0.0</td>\n",
       "    </tr>\n",
       "    <tr>\n",
       "      <th>1</th>\n",
       "      <td>4771cc26-131a-45db-b5aa-537ea4ba5342</td>\n",
       "      <td>2de017a3-2e01-49cb-a581-08169e83be29</td>\n",
       "      <td>Fully Paid</td>\n",
       "      <td>262328.0</td>\n",
       "      <td>Short Term</td>\n",
       "      <td>NaN</td>\n",
       "      <td>NaN</td>\n",
       "      <td>10+ years</td>\n",
       "      <td>Home Mortgage</td>\n",
       "      <td>Debt Consolidation</td>\n",
       "      <td>33295.98</td>\n",
       "      <td>21.1</td>\n",
       "      <td>8.0</td>\n",
       "      <td>35.0</td>\n",
       "      <td>0.0</td>\n",
       "      <td>229976.0</td>\n",
       "      <td>850784.0</td>\n",
       "      <td>0.0</td>\n",
       "      <td>0.0</td>\n",
       "    </tr>\n",
       "    <tr>\n",
       "      <th>2</th>\n",
       "      <td>4eed4e6a-aa2f-4c91-8651-ce984ee8fb26</td>\n",
       "      <td>5efb2b2b-bf11-4dfd-a572-3761a2694725</td>\n",
       "      <td>Fully Paid</td>\n",
       "      <td>99999999.0</td>\n",
       "      <td>Short Term</td>\n",
       "      <td>741.0</td>\n",
       "      <td>2231892.0</td>\n",
       "      <td>8 years</td>\n",
       "      <td>Own Home</td>\n",
       "      <td>Debt Consolidation</td>\n",
       "      <td>29200.53</td>\n",
       "      <td>14.9</td>\n",
       "      <td>29.0</td>\n",
       "      <td>18.0</td>\n",
       "      <td>1.0</td>\n",
       "      <td>297996.0</td>\n",
       "      <td>750090.0</td>\n",
       "      <td>0.0</td>\n",
       "      <td>0.0</td>\n",
       "    </tr>\n",
       "    <tr>\n",
       "      <th>3</th>\n",
       "      <td>77598f7b-32e7-4e3b-a6e5-06ba0d98fe8a</td>\n",
       "      <td>e777faab-98ae-45af-9a86-7ce5b33b1011</td>\n",
       "      <td>Fully Paid</td>\n",
       "      <td>347666.0</td>\n",
       "      <td>Long Term</td>\n",
       "      <td>721.0</td>\n",
       "      <td>806949.0</td>\n",
       "      <td>3 years</td>\n",
       "      <td>Own Home</td>\n",
       "      <td>Debt Consolidation</td>\n",
       "      <td>8741.90</td>\n",
       "      <td>12.0</td>\n",
       "      <td>NaN</td>\n",
       "      <td>9.0</td>\n",
       "      <td>0.0</td>\n",
       "      <td>256329.0</td>\n",
       "      <td>386958.0</td>\n",
       "      <td>0.0</td>\n",
       "      <td>0.0</td>\n",
       "    </tr>\n",
       "    <tr>\n",
       "      <th>4</th>\n",
       "      <td>d4062e70-befa-4995-8643-a0de73938182</td>\n",
       "      <td>81536ad9-5ccf-4eb8-befb-47a4d608658e</td>\n",
       "      <td>Fully Paid</td>\n",
       "      <td>176220.0</td>\n",
       "      <td>Short Term</td>\n",
       "      <td>NaN</td>\n",
       "      <td>NaN</td>\n",
       "      <td>5 years</td>\n",
       "      <td>Rent</td>\n",
       "      <td>Debt Consolidation</td>\n",
       "      <td>20639.70</td>\n",
       "      <td>6.1</td>\n",
       "      <td>NaN</td>\n",
       "      <td>15.0</td>\n",
       "      <td>0.0</td>\n",
       "      <td>253460.0</td>\n",
       "      <td>427174.0</td>\n",
       "      <td>0.0</td>\n",
       "      <td>0.0</td>\n",
       "    </tr>\n",
       "  </tbody>\n",
       "</table>\n",
       "</div>"
      ],
      "text/plain": [
       "                                Loan ID                           Customer ID  \\\n",
       "0  14dd8831-6af5-400b-83ec-68e61888a048  981165ec-3274-42f5-a3b4-d104041a9ca9   \n",
       "1  4771cc26-131a-45db-b5aa-537ea4ba5342  2de017a3-2e01-49cb-a581-08169e83be29   \n",
       "2  4eed4e6a-aa2f-4c91-8651-ce984ee8fb26  5efb2b2b-bf11-4dfd-a572-3761a2694725   \n",
       "3  77598f7b-32e7-4e3b-a6e5-06ba0d98fe8a  e777faab-98ae-45af-9a86-7ce5b33b1011   \n",
       "4  d4062e70-befa-4995-8643-a0de73938182  81536ad9-5ccf-4eb8-befb-47a4d608658e   \n",
       "\n",
       "  Loan Status  Current Loan Amount        Term  Credit Score  Annual Income  \\\n",
       "0  Fully Paid             445412.0  Short Term         709.0      1167493.0   \n",
       "1  Fully Paid             262328.0  Short Term           NaN            NaN   \n",
       "2  Fully Paid           99999999.0  Short Term         741.0      2231892.0   \n",
       "3  Fully Paid             347666.0   Long Term         721.0       806949.0   \n",
       "4  Fully Paid             176220.0  Short Term           NaN            NaN   \n",
       "\n",
       "  Years in current job Home Ownership             Purpose  Monthly Debt  \\\n",
       "0              8 years  Home Mortgage   Home Improvements       5214.74   \n",
       "1            10+ years  Home Mortgage  Debt Consolidation      33295.98   \n",
       "2              8 years       Own Home  Debt Consolidation      29200.53   \n",
       "3              3 years       Own Home  Debt Consolidation       8741.90   \n",
       "4              5 years           Rent  Debt Consolidation      20639.70   \n",
       "\n",
       "   Years of Credit History  Months since last delinquent  \\\n",
       "0                     17.2                           NaN   \n",
       "1                     21.1                           8.0   \n",
       "2                     14.9                          29.0   \n",
       "3                     12.0                           NaN   \n",
       "4                      6.1                           NaN   \n",
       "\n",
       "   Number of Open Accounts  Number of Credit Problems  Current Credit Balance  \\\n",
       "0                      6.0                        1.0                228190.0   \n",
       "1                     35.0                        0.0                229976.0   \n",
       "2                     18.0                        1.0                297996.0   \n",
       "3                      9.0                        0.0                256329.0   \n",
       "4                     15.0                        0.0                253460.0   \n",
       "\n",
       "   Maximum Open Credit  Bankruptcies  Tax Liens  \n",
       "0             416746.0           1.0        0.0  \n",
       "1             850784.0           0.0        0.0  \n",
       "2             750090.0           0.0        0.0  \n",
       "3             386958.0           0.0        0.0  \n",
       "4             427174.0           0.0        0.0  "
      ]
     },
     "execution_count": 3,
     "metadata": {},
     "output_type": "execute_result"
    }
   ],
   "source": [
    "datatrain.head()"
   ]
  },
  {
   "cell_type": "code",
   "execution_count": 4,
   "id": "7391b417",
   "metadata": {},
   "outputs": [],
   "source": [
    "datatest = pd.read_csv(\"credit_test.csv\")"
   ]
  },
  {
   "cell_type": "code",
   "execution_count": 5,
   "id": "eeed73f8",
   "metadata": {},
   "outputs": [
    {
     "data": {
      "text/html": [
       "<div>\n",
       "<style scoped>\n",
       "    .dataframe tbody tr th:only-of-type {\n",
       "        vertical-align: middle;\n",
       "    }\n",
       "\n",
       "    .dataframe tbody tr th {\n",
       "        vertical-align: top;\n",
       "    }\n",
       "\n",
       "    .dataframe thead th {\n",
       "        text-align: right;\n",
       "    }\n",
       "</style>\n",
       "<table border=\"1\" class=\"dataframe\">\n",
       "  <thead>\n",
       "    <tr style=\"text-align: right;\">\n",
       "      <th></th>\n",
       "      <th>Loan ID</th>\n",
       "      <th>Customer ID</th>\n",
       "      <th>Current Loan Amount</th>\n",
       "      <th>Term</th>\n",
       "      <th>Credit Score</th>\n",
       "      <th>Annual Income</th>\n",
       "      <th>Years in current job</th>\n",
       "      <th>Home Ownership</th>\n",
       "      <th>Purpose</th>\n",
       "      <th>Monthly Debt</th>\n",
       "      <th>Years of Credit History</th>\n",
       "      <th>Months since last delinquent</th>\n",
       "      <th>Number of Open Accounts</th>\n",
       "      <th>Number of Credit Problems</th>\n",
       "      <th>Current Credit Balance</th>\n",
       "      <th>Maximum Open Credit</th>\n",
       "      <th>Bankruptcies</th>\n",
       "      <th>Tax Liens</th>\n",
       "    </tr>\n",
       "  </thead>\n",
       "  <tbody>\n",
       "    <tr>\n",
       "      <th>0</th>\n",
       "      <td>f738779f-c726-40dc-92cf-689d73af533d</td>\n",
       "      <td>ded0b3c3-6bf4-4091-8726-47039f2c1b90</td>\n",
       "      <td>611314.0</td>\n",
       "      <td>Short Term</td>\n",
       "      <td>747.0</td>\n",
       "      <td>2074116.0</td>\n",
       "      <td>10+ years</td>\n",
       "      <td>Home Mortgage</td>\n",
       "      <td>Debt Consolidation</td>\n",
       "      <td>42000.83</td>\n",
       "      <td>21.8</td>\n",
       "      <td>NaN</td>\n",
       "      <td>9.0</td>\n",
       "      <td>0.0</td>\n",
       "      <td>621908.0</td>\n",
       "      <td>1058970.0</td>\n",
       "      <td>0.0</td>\n",
       "      <td>0.0</td>\n",
       "    </tr>\n",
       "    <tr>\n",
       "      <th>1</th>\n",
       "      <td>6dcc0947-164d-476c-a1de-3ae7283dde0a</td>\n",
       "      <td>1630e6e3-34e3-461a-8fda-09297d3140c8</td>\n",
       "      <td>266662.0</td>\n",
       "      <td>Short Term</td>\n",
       "      <td>734.0</td>\n",
       "      <td>1919190.0</td>\n",
       "      <td>10+ years</td>\n",
       "      <td>Home Mortgage</td>\n",
       "      <td>Debt Consolidation</td>\n",
       "      <td>36624.40</td>\n",
       "      <td>19.4</td>\n",
       "      <td>NaN</td>\n",
       "      <td>11.0</td>\n",
       "      <td>0.0</td>\n",
       "      <td>679573.0</td>\n",
       "      <td>904442.0</td>\n",
       "      <td>0.0</td>\n",
       "      <td>0.0</td>\n",
       "    </tr>\n",
       "    <tr>\n",
       "      <th>2</th>\n",
       "      <td>f7744d01-894b-49c3-8777-fc6431a2cff1</td>\n",
       "      <td>2c60938b-ad2b-4702-804d-eeca43949c52</td>\n",
       "      <td>153494.0</td>\n",
       "      <td>Short Term</td>\n",
       "      <td>709.0</td>\n",
       "      <td>871112.0</td>\n",
       "      <td>2 years</td>\n",
       "      <td>Rent</td>\n",
       "      <td>Debt Consolidation</td>\n",
       "      <td>8391.73</td>\n",
       "      <td>12.5</td>\n",
       "      <td>10.0</td>\n",
       "      <td>10.0</td>\n",
       "      <td>0.0</td>\n",
       "      <td>38532.0</td>\n",
       "      <td>388036.0</td>\n",
       "      <td>0.0</td>\n",
       "      <td>0.0</td>\n",
       "    </tr>\n",
       "    <tr>\n",
       "      <th>3</th>\n",
       "      <td>83721ffb-b99a-4a0f-aea5-ef472a138b41</td>\n",
       "      <td>12116614-2f3c-4d16-ad34-d92883718806</td>\n",
       "      <td>176242.0</td>\n",
       "      <td>Short Term</td>\n",
       "      <td>727.0</td>\n",
       "      <td>780083.0</td>\n",
       "      <td>10+ years</td>\n",
       "      <td>Rent</td>\n",
       "      <td>Debt Consolidation</td>\n",
       "      <td>16771.87</td>\n",
       "      <td>16.5</td>\n",
       "      <td>27.0</td>\n",
       "      <td>16.0</td>\n",
       "      <td>1.0</td>\n",
       "      <td>156940.0</td>\n",
       "      <td>531322.0</td>\n",
       "      <td>1.0</td>\n",
       "      <td>0.0</td>\n",
       "    </tr>\n",
       "    <tr>\n",
       "      <th>4</th>\n",
       "      <td>08f3789f-5714-4b10-929d-e1527ab5e5a3</td>\n",
       "      <td>39888105-fd5f-4023-860a-30a3e6f5ccb7</td>\n",
       "      <td>321992.0</td>\n",
       "      <td>Short Term</td>\n",
       "      <td>744.0</td>\n",
       "      <td>1761148.0</td>\n",
       "      <td>10+ years</td>\n",
       "      <td>Home Mortgage</td>\n",
       "      <td>Debt Consolidation</td>\n",
       "      <td>39478.77</td>\n",
       "      <td>26.0</td>\n",
       "      <td>44.0</td>\n",
       "      <td>14.0</td>\n",
       "      <td>0.0</td>\n",
       "      <td>359765.0</td>\n",
       "      <td>468072.0</td>\n",
       "      <td>0.0</td>\n",
       "      <td>0.0</td>\n",
       "    </tr>\n",
       "  </tbody>\n",
       "</table>\n",
       "</div>"
      ],
      "text/plain": [
       "                                Loan ID                           Customer ID  \\\n",
       "0  f738779f-c726-40dc-92cf-689d73af533d  ded0b3c3-6bf4-4091-8726-47039f2c1b90   \n",
       "1  6dcc0947-164d-476c-a1de-3ae7283dde0a  1630e6e3-34e3-461a-8fda-09297d3140c8   \n",
       "2  f7744d01-894b-49c3-8777-fc6431a2cff1  2c60938b-ad2b-4702-804d-eeca43949c52   \n",
       "3  83721ffb-b99a-4a0f-aea5-ef472a138b41  12116614-2f3c-4d16-ad34-d92883718806   \n",
       "4  08f3789f-5714-4b10-929d-e1527ab5e5a3  39888105-fd5f-4023-860a-30a3e6f5ccb7   \n",
       "\n",
       "   Current Loan Amount        Term  Credit Score  Annual Income  \\\n",
       "0             611314.0  Short Term         747.0      2074116.0   \n",
       "1             266662.0  Short Term         734.0      1919190.0   \n",
       "2             153494.0  Short Term         709.0       871112.0   \n",
       "3             176242.0  Short Term         727.0       780083.0   \n",
       "4             321992.0  Short Term         744.0      1761148.0   \n",
       "\n",
       "  Years in current job Home Ownership             Purpose  Monthly Debt  \\\n",
       "0            10+ years  Home Mortgage  Debt Consolidation      42000.83   \n",
       "1            10+ years  Home Mortgage  Debt Consolidation      36624.40   \n",
       "2              2 years           Rent  Debt Consolidation       8391.73   \n",
       "3            10+ years           Rent  Debt Consolidation      16771.87   \n",
       "4            10+ years  Home Mortgage  Debt Consolidation      39478.77   \n",
       "\n",
       "   Years of Credit History  Months since last delinquent  \\\n",
       "0                     21.8                           NaN   \n",
       "1                     19.4                           NaN   \n",
       "2                     12.5                          10.0   \n",
       "3                     16.5                          27.0   \n",
       "4                     26.0                          44.0   \n",
       "\n",
       "   Number of Open Accounts  Number of Credit Problems  Current Credit Balance  \\\n",
       "0                      9.0                        0.0                621908.0   \n",
       "1                     11.0                        0.0                679573.0   \n",
       "2                     10.0                        0.0                 38532.0   \n",
       "3                     16.0                        1.0                156940.0   \n",
       "4                     14.0                        0.0                359765.0   \n",
       "\n",
       "   Maximum Open Credit  Bankruptcies  Tax Liens  \n",
       "0            1058970.0           0.0        0.0  \n",
       "1             904442.0           0.0        0.0  \n",
       "2             388036.0           0.0        0.0  \n",
       "3             531322.0           1.0        0.0  \n",
       "4             468072.0           0.0        0.0  "
      ]
     },
     "execution_count": 5,
     "metadata": {},
     "output_type": "execute_result"
    }
   ],
   "source": [
    "datatest.head()"
   ]
  },
  {
   "cell_type": "code",
   "execution_count": 6,
   "id": "e6c5f8ed",
   "metadata": {},
   "outputs": [],
   "source": [
    "#making copy of original data\n",
    "original_train = datatest.copy()\n",
    "original_test = datatrain.copy()"
   ]
  },
  {
   "cell_type": "code",
   "execution_count": 7,
   "id": "76a6aca9",
   "metadata": {},
   "outputs": [],
   "source": [
    "datatrain.columns = datatrain.columns.str.replace(' ', '') #Removing white space so it would be easier to execute code "
   ]
  },
  {
   "cell_type": "code",
   "execution_count": 8,
   "id": "0a8e771a",
   "metadata": {},
   "outputs": [],
   "source": [
    "datatest.columns = datatest.columns.str.replace(' ', '') #Removing white space so it would be easier to execute code "
   ]
  },
  {
   "cell_type": "code",
   "execution_count": 9,
   "id": "64d5a3a2",
   "metadata": {},
   "outputs": [
    {
     "data": {
      "text/html": [
       "<div>\n",
       "<style scoped>\n",
       "    .dataframe tbody tr th:only-of-type {\n",
       "        vertical-align: middle;\n",
       "    }\n",
       "\n",
       "    .dataframe tbody tr th {\n",
       "        vertical-align: top;\n",
       "    }\n",
       "\n",
       "    .dataframe thead th {\n",
       "        text-align: right;\n",
       "    }\n",
       "</style>\n",
       "<table border=\"1\" class=\"dataframe\">\n",
       "  <thead>\n",
       "    <tr style=\"text-align: right;\">\n",
       "      <th></th>\n",
       "      <th>CurrentLoanAmount</th>\n",
       "      <th>CreditScore</th>\n",
       "      <th>AnnualIncome</th>\n",
       "      <th>MonthlyDebt</th>\n",
       "      <th>YearsofCreditHistory</th>\n",
       "      <th>Monthssincelastdelinquent</th>\n",
       "      <th>NumberofOpenAccounts</th>\n",
       "      <th>NumberofCreditProblems</th>\n",
       "      <th>CurrentCreditBalance</th>\n",
       "      <th>MaximumOpenCredit</th>\n",
       "      <th>Bankruptcies</th>\n",
       "      <th>TaxLiens</th>\n",
       "    </tr>\n",
       "  </thead>\n",
       "  <tbody>\n",
       "    <tr>\n",
       "      <th>count</th>\n",
       "      <td>1.000000e+05</td>\n",
       "      <td>80846.000000</td>\n",
       "      <td>8.084600e+04</td>\n",
       "      <td>100000.000000</td>\n",
       "      <td>100000.000000</td>\n",
       "      <td>46859.000000</td>\n",
       "      <td>100000.00000</td>\n",
       "      <td>100000.000000</td>\n",
       "      <td>1.000000e+05</td>\n",
       "      <td>9.999800e+04</td>\n",
       "      <td>99796.000000</td>\n",
       "      <td>99990.000000</td>\n",
       "    </tr>\n",
       "    <tr>\n",
       "      <th>mean</th>\n",
       "      <td>1.176045e+07</td>\n",
       "      <td>1076.456089</td>\n",
       "      <td>1.378277e+06</td>\n",
       "      <td>18472.412336</td>\n",
       "      <td>18.199141</td>\n",
       "      <td>34.901321</td>\n",
       "      <td>11.12853</td>\n",
       "      <td>0.168310</td>\n",
       "      <td>2.946374e+05</td>\n",
       "      <td>7.607984e+05</td>\n",
       "      <td>0.117740</td>\n",
       "      <td>0.029313</td>\n",
       "    </tr>\n",
       "    <tr>\n",
       "      <th>std</th>\n",
       "      <td>3.178394e+07</td>\n",
       "      <td>1475.403791</td>\n",
       "      <td>1.081360e+06</td>\n",
       "      <td>12174.992609</td>\n",
       "      <td>7.015324</td>\n",
       "      <td>21.997829</td>\n",
       "      <td>5.00987</td>\n",
       "      <td>0.482705</td>\n",
       "      <td>3.761709e+05</td>\n",
       "      <td>8.384503e+06</td>\n",
       "      <td>0.351424</td>\n",
       "      <td>0.258182</td>\n",
       "    </tr>\n",
       "    <tr>\n",
       "      <th>min</th>\n",
       "      <td>1.080200e+04</td>\n",
       "      <td>585.000000</td>\n",
       "      <td>7.662700e+04</td>\n",
       "      <td>0.000000</td>\n",
       "      <td>3.600000</td>\n",
       "      <td>0.000000</td>\n",
       "      <td>0.00000</td>\n",
       "      <td>0.000000</td>\n",
       "      <td>0.000000e+00</td>\n",
       "      <td>0.000000e+00</td>\n",
       "      <td>0.000000</td>\n",
       "      <td>0.000000</td>\n",
       "    </tr>\n",
       "    <tr>\n",
       "      <th>25%</th>\n",
       "      <td>1.796520e+05</td>\n",
       "      <td>705.000000</td>\n",
       "      <td>8.488440e+05</td>\n",
       "      <td>10214.162500</td>\n",
       "      <td>13.500000</td>\n",
       "      <td>16.000000</td>\n",
       "      <td>8.00000</td>\n",
       "      <td>0.000000</td>\n",
       "      <td>1.126700e+05</td>\n",
       "      <td>2.734380e+05</td>\n",
       "      <td>0.000000</td>\n",
       "      <td>0.000000</td>\n",
       "    </tr>\n",
       "    <tr>\n",
       "      <th>50%</th>\n",
       "      <td>3.122460e+05</td>\n",
       "      <td>724.000000</td>\n",
       "      <td>1.174162e+06</td>\n",
       "      <td>16220.300000</td>\n",
       "      <td>16.900000</td>\n",
       "      <td>32.000000</td>\n",
       "      <td>10.00000</td>\n",
       "      <td>0.000000</td>\n",
       "      <td>2.098170e+05</td>\n",
       "      <td>4.678740e+05</td>\n",
       "      <td>0.000000</td>\n",
       "      <td>0.000000</td>\n",
       "    </tr>\n",
       "    <tr>\n",
       "      <th>75%</th>\n",
       "      <td>5.249420e+05</td>\n",
       "      <td>741.000000</td>\n",
       "      <td>1.650663e+06</td>\n",
       "      <td>24012.057500</td>\n",
       "      <td>21.700000</td>\n",
       "      <td>51.000000</td>\n",
       "      <td>14.00000</td>\n",
       "      <td>0.000000</td>\n",
       "      <td>3.679588e+05</td>\n",
       "      <td>7.829580e+05</td>\n",
       "      <td>0.000000</td>\n",
       "      <td>0.000000</td>\n",
       "    </tr>\n",
       "    <tr>\n",
       "      <th>max</th>\n",
       "      <td>1.000000e+08</td>\n",
       "      <td>7510.000000</td>\n",
       "      <td>1.655574e+08</td>\n",
       "      <td>435843.280000</td>\n",
       "      <td>70.500000</td>\n",
       "      <td>176.000000</td>\n",
       "      <td>76.00000</td>\n",
       "      <td>15.000000</td>\n",
       "      <td>3.287897e+07</td>\n",
       "      <td>1.539738e+09</td>\n",
       "      <td>7.000000</td>\n",
       "      <td>15.000000</td>\n",
       "    </tr>\n",
       "  </tbody>\n",
       "</table>\n",
       "</div>"
      ],
      "text/plain": [
       "       CurrentLoanAmount   CreditScore  AnnualIncome    MonthlyDebt  \\\n",
       "count       1.000000e+05  80846.000000  8.084600e+04  100000.000000   \n",
       "mean        1.176045e+07   1076.456089  1.378277e+06   18472.412336   \n",
       "std         3.178394e+07   1475.403791  1.081360e+06   12174.992609   \n",
       "min         1.080200e+04    585.000000  7.662700e+04       0.000000   \n",
       "25%         1.796520e+05    705.000000  8.488440e+05   10214.162500   \n",
       "50%         3.122460e+05    724.000000  1.174162e+06   16220.300000   \n",
       "75%         5.249420e+05    741.000000  1.650663e+06   24012.057500   \n",
       "max         1.000000e+08   7510.000000  1.655574e+08  435843.280000   \n",
       "\n",
       "       YearsofCreditHistory  Monthssincelastdelinquent  NumberofOpenAccounts  \\\n",
       "count         100000.000000               46859.000000          100000.00000   \n",
       "mean              18.199141                  34.901321              11.12853   \n",
       "std                7.015324                  21.997829               5.00987   \n",
       "min                3.600000                   0.000000               0.00000   \n",
       "25%               13.500000                  16.000000               8.00000   \n",
       "50%               16.900000                  32.000000              10.00000   \n",
       "75%               21.700000                  51.000000              14.00000   \n",
       "max               70.500000                 176.000000              76.00000   \n",
       "\n",
       "       NumberofCreditProblems  CurrentCreditBalance  MaximumOpenCredit  \\\n",
       "count           100000.000000          1.000000e+05       9.999800e+04   \n",
       "mean                 0.168310          2.946374e+05       7.607984e+05   \n",
       "std                  0.482705          3.761709e+05       8.384503e+06   \n",
       "min                  0.000000          0.000000e+00       0.000000e+00   \n",
       "25%                  0.000000          1.126700e+05       2.734380e+05   \n",
       "50%                  0.000000          2.098170e+05       4.678740e+05   \n",
       "75%                  0.000000          3.679588e+05       7.829580e+05   \n",
       "max                 15.000000          3.287897e+07       1.539738e+09   \n",
       "\n",
       "       Bankruptcies      TaxLiens  \n",
       "count  99796.000000  99990.000000  \n",
       "mean       0.117740      0.029313  \n",
       "std        0.351424      0.258182  \n",
       "min        0.000000      0.000000  \n",
       "25%        0.000000      0.000000  \n",
       "50%        0.000000      0.000000  \n",
       "75%        0.000000      0.000000  \n",
       "max        7.000000     15.000000  "
      ]
     },
     "execution_count": 9,
     "metadata": {},
     "output_type": "execute_result"
    }
   ],
   "source": [
    "datatrain.describe()"
   ]
  },
  {
   "cell_type": "raw",
   "id": "92890fe5",
   "metadata": {},
   "source": [
    "# maximum credit score is supposed to be less than 850"
   ]
  },
  {
   "cell_type": "code",
   "execution_count": 10,
   "id": "95618545",
   "metadata": {},
   "outputs": [
    {
     "data": {
      "text/html": [
       "<div>\n",
       "<style scoped>\n",
       "    .dataframe tbody tr th:only-of-type {\n",
       "        vertical-align: middle;\n",
       "    }\n",
       "\n",
       "    .dataframe tbody tr th {\n",
       "        vertical-align: top;\n",
       "    }\n",
       "\n",
       "    .dataframe thead th {\n",
       "        text-align: right;\n",
       "    }\n",
       "</style>\n",
       "<table border=\"1\" class=\"dataframe\">\n",
       "  <thead>\n",
       "    <tr style=\"text-align: right;\">\n",
       "      <th></th>\n",
       "      <th>CurrentLoanAmount</th>\n",
       "      <th>CreditScore</th>\n",
       "      <th>AnnualIncome</th>\n",
       "      <th>MonthlyDebt</th>\n",
       "      <th>YearsofCreditHistory</th>\n",
       "      <th>Monthssincelastdelinquent</th>\n",
       "      <th>NumberofOpenAccounts</th>\n",
       "      <th>NumberofCreditProblems</th>\n",
       "      <th>CurrentCreditBalance</th>\n",
       "      <th>MaximumOpenCredit</th>\n",
       "      <th>Bankruptcies</th>\n",
       "      <th>TaxLiens</th>\n",
       "    </tr>\n",
       "  </thead>\n",
       "  <tbody>\n",
       "    <tr>\n",
       "      <th>count</th>\n",
       "      <td>1.000000e+04</td>\n",
       "      <td>8019.000000</td>\n",
       "      <td>8.019000e+03</td>\n",
       "      <td>10000.000000</td>\n",
       "      <td>10000.000000</td>\n",
       "      <td>4694.000000</td>\n",
       "      <td>10000.00000</td>\n",
       "      <td>10000.000000</td>\n",
       "      <td>1.000000e+04</td>\n",
       "      <td>1.000000e+04</td>\n",
       "      <td>9978.000000</td>\n",
       "      <td>9999.000000</td>\n",
       "    </tr>\n",
       "    <tr>\n",
       "      <th>mean</th>\n",
       "      <td>1.160380e+07</td>\n",
       "      <td>1077.991520</td>\n",
       "      <td>1.369106e+06</td>\n",
       "      <td>18429.671699</td>\n",
       "      <td>18.235930</td>\n",
       "      <td>34.964636</td>\n",
       "      <td>11.08410</td>\n",
       "      <td>0.165500</td>\n",
       "      <td>2.907301e+05</td>\n",
       "      <td>6.871308e+05</td>\n",
       "      <td>0.116356</td>\n",
       "      <td>0.030803</td>\n",
       "    </tr>\n",
       "    <tr>\n",
       "      <th>std</th>\n",
       "      <td>3.160010e+07</td>\n",
       "      <td>1477.467761</td>\n",
       "      <td>8.687557e+05</td>\n",
       "      <td>12399.956192</td>\n",
       "      <td>7.018356</td>\n",
       "      <td>21.640291</td>\n",
       "      <td>5.02338</td>\n",
       "      <td>0.500934</td>\n",
       "      <td>3.881687e+05</td>\n",
       "      <td>1.861394e+06</td>\n",
       "      <td>0.349961</td>\n",
       "      <td>0.288215</td>\n",
       "    </tr>\n",
       "    <tr>\n",
       "      <th>min</th>\n",
       "      <td>1.947000e+04</td>\n",
       "      <td>585.000000</td>\n",
       "      <td>8.109200e+04</td>\n",
       "      <td>0.000000</td>\n",
       "      <td>3.800000</td>\n",
       "      <td>0.000000</td>\n",
       "      <td>1.00000</td>\n",
       "      <td>0.000000</td>\n",
       "      <td>0.000000e+00</td>\n",
       "      <td>0.000000e+00</td>\n",
       "      <td>0.000000</td>\n",
       "      <td>0.000000</td>\n",
       "    </tr>\n",
       "    <tr>\n",
       "      <th>25%</th>\n",
       "      <td>1.789480e+05</td>\n",
       "      <td>706.000000</td>\n",
       "      <td>8.483405e+05</td>\n",
       "      <td>10202.857500</td>\n",
       "      <td>13.600000</td>\n",
       "      <td>17.000000</td>\n",
       "      <td>7.00000</td>\n",
       "      <td>0.000000</td>\n",
       "      <td>1.086515e+05</td>\n",
       "      <td>2.706000e+05</td>\n",
       "      <td>0.000000</td>\n",
       "      <td>0.000000</td>\n",
       "    </tr>\n",
       "    <tr>\n",
       "      <th>50%</th>\n",
       "      <td>3.092760e+05</td>\n",
       "      <td>725.000000</td>\n",
       "      <td>1.168272e+06</td>\n",
       "      <td>16052.055000</td>\n",
       "      <td>17.000000</td>\n",
       "      <td>32.000000</td>\n",
       "      <td>10.00000</td>\n",
       "      <td>0.000000</td>\n",
       "      <td>2.075180e+05</td>\n",
       "      <td>4.626050e+05</td>\n",
       "      <td>0.000000</td>\n",
       "      <td>0.000000</td>\n",
       "    </tr>\n",
       "    <tr>\n",
       "      <th>75%</th>\n",
       "      <td>5.157075e+05</td>\n",
       "      <td>741.000000</td>\n",
       "      <td>1.664390e+06</td>\n",
       "      <td>23881.337500</td>\n",
       "      <td>21.700000</td>\n",
       "      <td>50.000000</td>\n",
       "      <td>14.00000</td>\n",
       "      <td>0.000000</td>\n",
       "      <td>3.624630e+05</td>\n",
       "      <td>7.861150e+05</td>\n",
       "      <td>0.000000</td>\n",
       "      <td>0.000000</td>\n",
       "    </tr>\n",
       "    <tr>\n",
       "      <th>max</th>\n",
       "      <td>1.000000e+08</td>\n",
       "      <td>7510.000000</td>\n",
       "      <td>1.781535e+07</td>\n",
       "      <td>229057.920000</td>\n",
       "      <td>62.500000</td>\n",
       "      <td>131.000000</td>\n",
       "      <td>55.00000</td>\n",
       "      <td>10.000000</td>\n",
       "      <td>1.623744e+07</td>\n",
       "      <td>1.459073e+08</td>\n",
       "      <td>5.000000</td>\n",
       "      <td>9.000000</td>\n",
       "    </tr>\n",
       "  </tbody>\n",
       "</table>\n",
       "</div>"
      ],
      "text/plain": [
       "       CurrentLoanAmount  CreditScore  AnnualIncome    MonthlyDebt  \\\n",
       "count       1.000000e+04  8019.000000  8.019000e+03   10000.000000   \n",
       "mean        1.160380e+07  1077.991520  1.369106e+06   18429.671699   \n",
       "std         3.160010e+07  1477.467761  8.687557e+05   12399.956192   \n",
       "min         1.947000e+04   585.000000  8.109200e+04       0.000000   \n",
       "25%         1.789480e+05   706.000000  8.483405e+05   10202.857500   \n",
       "50%         3.092760e+05   725.000000  1.168272e+06   16052.055000   \n",
       "75%         5.157075e+05   741.000000  1.664390e+06   23881.337500   \n",
       "max         1.000000e+08  7510.000000  1.781535e+07  229057.920000   \n",
       "\n",
       "       YearsofCreditHistory  Monthssincelastdelinquent  NumberofOpenAccounts  \\\n",
       "count          10000.000000                4694.000000           10000.00000   \n",
       "mean              18.235930                  34.964636              11.08410   \n",
       "std                7.018356                  21.640291               5.02338   \n",
       "min                3.800000                   0.000000               1.00000   \n",
       "25%               13.600000                  17.000000               7.00000   \n",
       "50%               17.000000                  32.000000              10.00000   \n",
       "75%               21.700000                  50.000000              14.00000   \n",
       "max               62.500000                 131.000000              55.00000   \n",
       "\n",
       "       NumberofCreditProblems  CurrentCreditBalance  MaximumOpenCredit  \\\n",
       "count            10000.000000          1.000000e+04       1.000000e+04   \n",
       "mean                 0.165500          2.907301e+05       6.871308e+05   \n",
       "std                  0.500934          3.881687e+05       1.861394e+06   \n",
       "min                  0.000000          0.000000e+00       0.000000e+00   \n",
       "25%                  0.000000          1.086515e+05       2.706000e+05   \n",
       "50%                  0.000000          2.075180e+05       4.626050e+05   \n",
       "75%                  0.000000          3.624630e+05       7.861150e+05   \n",
       "max                 10.000000          1.623744e+07       1.459073e+08   \n",
       "\n",
       "       Bankruptcies     TaxLiens  \n",
       "count   9978.000000  9999.000000  \n",
       "mean       0.116356     0.030803  \n",
       "std        0.349961     0.288215  \n",
       "min        0.000000     0.000000  \n",
       "25%        0.000000     0.000000  \n",
       "50%        0.000000     0.000000  \n",
       "75%        0.000000     0.000000  \n",
       "max        5.000000     9.000000  "
      ]
     },
     "execution_count": 10,
     "metadata": {},
     "output_type": "execute_result"
    }
   ],
   "source": [
    "datatest.describe()"
   ]
  },
  {
   "cell_type": "code",
   "execution_count": 11,
   "id": "ef66c5f8",
   "metadata": {},
   "outputs": [
    {
     "data": {
      "text/plain": [
       "Index(['LoanID', 'CustomerID', 'LoanStatus', 'CurrentLoanAmount', 'Term',\n",
       "       'CreditScore', 'AnnualIncome', 'Yearsincurrentjob', 'HomeOwnership',\n",
       "       'Purpose', 'MonthlyDebt', 'YearsofCreditHistory',\n",
       "       'Monthssincelastdelinquent', 'NumberofOpenAccounts',\n",
       "       'NumberofCreditProblems', 'CurrentCreditBalance', 'MaximumOpenCredit',\n",
       "       'Bankruptcies', 'TaxLiens'],\n",
       "      dtype='object')"
      ]
     },
     "execution_count": 11,
     "metadata": {},
     "output_type": "execute_result"
    }
   ],
   "source": [
    "datatrain.columns"
   ]
  },
  {
   "cell_type": "code",
   "execution_count": 12,
   "id": "30551243",
   "metadata": {},
   "outputs": [
    {
     "data": {
      "text/plain": [
       "Index(['LoanID', 'CustomerID', 'CurrentLoanAmount', 'Term', 'CreditScore',\n",
       "       'AnnualIncome', 'Yearsincurrentjob', 'HomeOwnership', 'Purpose',\n",
       "       'MonthlyDebt', 'YearsofCreditHistory', 'Monthssincelastdelinquent',\n",
       "       'NumberofOpenAccounts', 'NumberofCreditProblems',\n",
       "       'CurrentCreditBalance', 'MaximumOpenCredit', 'Bankruptcies',\n",
       "       'TaxLiens'],\n",
       "      dtype='object')"
      ]
     },
     "execution_count": 12,
     "metadata": {},
     "output_type": "execute_result"
    }
   ],
   "source": [
    "datatest.columns"
   ]
  },
  {
   "cell_type": "code",
   "execution_count": 13,
   "id": "322dcb81",
   "metadata": {},
   "outputs": [
    {
     "name": "stderr",
     "output_type": "stream",
     "text": [
      "<ipython-input-13-e44f47e344ba>:6: SettingWithCopyWarning: \n",
      "A value is trying to be set on a copy of a slice from a DataFrame\n",
      "\n",
      "See the caveats in the documentation: https://pandas.pydata.org/pandas-docs/stable/user_guide/indexing.html#returning-a-view-versus-a-copy\n",
      "  datatrain['CreditScore'][i] = datatrain[\"CreditScore\"][i]/10\n"
     ]
    },
    {
     "name": "stdout",
     "output_type": "stream",
     "text": [
      "0         709.0\n",
      "1           NaN\n",
      "2         741.0\n",
      "3         721.0\n",
      "4           NaN\n",
      "          ...  \n",
      "100509      NaN\n",
      "100510      NaN\n",
      "100511      NaN\n",
      "100512      NaN\n",
      "100513      NaN\n",
      "Name: CreditScore, Length: 100514, dtype: float64\n"
     ]
    }
   ],
   "source": [
    "# Maximum credit score is supposed to be 850\n",
    "# There are credit score more than 850, upon checking in it looks like an extra zero was added to some credit score\n",
    "# Dividing those credit score by 10 made the credit score more accurate.\n",
    "for i in range(len(datatrain[\"CreditScore\"])):\n",
    "    if datatrain[\"CreditScore\"][i] > 850:\n",
    "        datatrain['CreditScore'][i] = datatrain[\"CreditScore\"][i]/10\n",
    "print(datatrain[\"CreditScore\"])"
   ]
  },
  {
   "cell_type": "code",
   "execution_count": 14,
   "id": "ed5db8e5",
   "metadata": {},
   "outputs": [
    {
     "data": {
      "text/html": [
       "<div>\n",
       "<style scoped>\n",
       "    .dataframe tbody tr th:only-of-type {\n",
       "        vertical-align: middle;\n",
       "    }\n",
       "\n",
       "    .dataframe tbody tr th {\n",
       "        vertical-align: top;\n",
       "    }\n",
       "\n",
       "    .dataframe thead th {\n",
       "        text-align: right;\n",
       "    }\n",
       "</style>\n",
       "<table border=\"1\" class=\"dataframe\">\n",
       "  <thead>\n",
       "    <tr style=\"text-align: right;\">\n",
       "      <th></th>\n",
       "      <th>CurrentLoanAmount</th>\n",
       "      <th>CreditScore</th>\n",
       "      <th>AnnualIncome</th>\n",
       "      <th>MonthlyDebt</th>\n",
       "      <th>YearsofCreditHistory</th>\n",
       "      <th>Monthssincelastdelinquent</th>\n",
       "      <th>NumberofOpenAccounts</th>\n",
       "      <th>NumberofCreditProblems</th>\n",
       "      <th>CurrentCreditBalance</th>\n",
       "      <th>MaximumOpenCredit</th>\n",
       "      <th>Bankruptcies</th>\n",
       "      <th>TaxLiens</th>\n",
       "    </tr>\n",
       "  </thead>\n",
       "  <tbody>\n",
       "    <tr>\n",
       "      <th>count</th>\n",
       "      <td>1.000000e+05</td>\n",
       "      <td>80846.000000</td>\n",
       "      <td>8.084600e+04</td>\n",
       "      <td>100000.000000</td>\n",
       "      <td>100000.000000</td>\n",
       "      <td>46859.000000</td>\n",
       "      <td>100000.00000</td>\n",
       "      <td>100000.000000</td>\n",
       "      <td>1.000000e+05</td>\n",
       "      <td>9.999800e+04</td>\n",
       "      <td>99796.000000</td>\n",
       "      <td>99990.000000</td>\n",
       "    </tr>\n",
       "    <tr>\n",
       "      <th>mean</th>\n",
       "      <td>1.176045e+07</td>\n",
       "      <td>716.293447</td>\n",
       "      <td>1.378277e+06</td>\n",
       "      <td>18472.412336</td>\n",
       "      <td>18.199141</td>\n",
       "      <td>34.901321</td>\n",
       "      <td>11.12853</td>\n",
       "      <td>0.168310</td>\n",
       "      <td>2.946374e+05</td>\n",
       "      <td>7.607984e+05</td>\n",
       "      <td>0.117740</td>\n",
       "      <td>0.029313</td>\n",
       "    </tr>\n",
       "    <tr>\n",
       "      <th>std</th>\n",
       "      <td>3.178394e+07</td>\n",
       "      <td>28.297164</td>\n",
       "      <td>1.081360e+06</td>\n",
       "      <td>12174.992609</td>\n",
       "      <td>7.015324</td>\n",
       "      <td>21.997829</td>\n",
       "      <td>5.00987</td>\n",
       "      <td>0.482705</td>\n",
       "      <td>3.761709e+05</td>\n",
       "      <td>8.384503e+06</td>\n",
       "      <td>0.351424</td>\n",
       "      <td>0.258182</td>\n",
       "    </tr>\n",
       "    <tr>\n",
       "      <th>min</th>\n",
       "      <td>1.080200e+04</td>\n",
       "      <td>585.000000</td>\n",
       "      <td>7.662700e+04</td>\n",
       "      <td>0.000000</td>\n",
       "      <td>3.600000</td>\n",
       "      <td>0.000000</td>\n",
       "      <td>0.00000</td>\n",
       "      <td>0.000000</td>\n",
       "      <td>0.000000e+00</td>\n",
       "      <td>0.000000e+00</td>\n",
       "      <td>0.000000</td>\n",
       "      <td>0.000000</td>\n",
       "    </tr>\n",
       "    <tr>\n",
       "      <th>25%</th>\n",
       "      <td>1.796520e+05</td>\n",
       "      <td>703.000000</td>\n",
       "      <td>8.488440e+05</td>\n",
       "      <td>10214.162500</td>\n",
       "      <td>13.500000</td>\n",
       "      <td>16.000000</td>\n",
       "      <td>8.00000</td>\n",
       "      <td>0.000000</td>\n",
       "      <td>1.126700e+05</td>\n",
       "      <td>2.734380e+05</td>\n",
       "      <td>0.000000</td>\n",
       "      <td>0.000000</td>\n",
       "    </tr>\n",
       "    <tr>\n",
       "      <th>50%</th>\n",
       "      <td>3.122460e+05</td>\n",
       "      <td>722.000000</td>\n",
       "      <td>1.174162e+06</td>\n",
       "      <td>16220.300000</td>\n",
       "      <td>16.900000</td>\n",
       "      <td>32.000000</td>\n",
       "      <td>10.00000</td>\n",
       "      <td>0.000000</td>\n",
       "      <td>2.098170e+05</td>\n",
       "      <td>4.678740e+05</td>\n",
       "      <td>0.000000</td>\n",
       "      <td>0.000000</td>\n",
       "    </tr>\n",
       "    <tr>\n",
       "      <th>75%</th>\n",
       "      <td>5.249420e+05</td>\n",
       "      <td>738.000000</td>\n",
       "      <td>1.650663e+06</td>\n",
       "      <td>24012.057500</td>\n",
       "      <td>21.700000</td>\n",
       "      <td>51.000000</td>\n",
       "      <td>14.00000</td>\n",
       "      <td>0.000000</td>\n",
       "      <td>3.679588e+05</td>\n",
       "      <td>7.829580e+05</td>\n",
       "      <td>0.000000</td>\n",
       "      <td>0.000000</td>\n",
       "    </tr>\n",
       "    <tr>\n",
       "      <th>max</th>\n",
       "      <td>1.000000e+08</td>\n",
       "      <td>751.000000</td>\n",
       "      <td>1.655574e+08</td>\n",
       "      <td>435843.280000</td>\n",
       "      <td>70.500000</td>\n",
       "      <td>176.000000</td>\n",
       "      <td>76.00000</td>\n",
       "      <td>15.000000</td>\n",
       "      <td>3.287897e+07</td>\n",
       "      <td>1.539738e+09</td>\n",
       "      <td>7.000000</td>\n",
       "      <td>15.000000</td>\n",
       "    </tr>\n",
       "  </tbody>\n",
       "</table>\n",
       "</div>"
      ],
      "text/plain": [
       "       CurrentLoanAmount   CreditScore  AnnualIncome    MonthlyDebt  \\\n",
       "count       1.000000e+05  80846.000000  8.084600e+04  100000.000000   \n",
       "mean        1.176045e+07    716.293447  1.378277e+06   18472.412336   \n",
       "std         3.178394e+07     28.297164  1.081360e+06   12174.992609   \n",
       "min         1.080200e+04    585.000000  7.662700e+04       0.000000   \n",
       "25%         1.796520e+05    703.000000  8.488440e+05   10214.162500   \n",
       "50%         3.122460e+05    722.000000  1.174162e+06   16220.300000   \n",
       "75%         5.249420e+05    738.000000  1.650663e+06   24012.057500   \n",
       "max         1.000000e+08    751.000000  1.655574e+08  435843.280000   \n",
       "\n",
       "       YearsofCreditHistory  Monthssincelastdelinquent  NumberofOpenAccounts  \\\n",
       "count         100000.000000               46859.000000          100000.00000   \n",
       "mean              18.199141                  34.901321              11.12853   \n",
       "std                7.015324                  21.997829               5.00987   \n",
       "min                3.600000                   0.000000               0.00000   \n",
       "25%               13.500000                  16.000000               8.00000   \n",
       "50%               16.900000                  32.000000              10.00000   \n",
       "75%               21.700000                  51.000000              14.00000   \n",
       "max               70.500000                 176.000000              76.00000   \n",
       "\n",
       "       NumberofCreditProblems  CurrentCreditBalance  MaximumOpenCredit  \\\n",
       "count           100000.000000          1.000000e+05       9.999800e+04   \n",
       "mean                 0.168310          2.946374e+05       7.607984e+05   \n",
       "std                  0.482705          3.761709e+05       8.384503e+06   \n",
       "min                  0.000000          0.000000e+00       0.000000e+00   \n",
       "25%                  0.000000          1.126700e+05       2.734380e+05   \n",
       "50%                  0.000000          2.098170e+05       4.678740e+05   \n",
       "75%                  0.000000          3.679588e+05       7.829580e+05   \n",
       "max                 15.000000          3.287897e+07       1.539738e+09   \n",
       "\n",
       "       Bankruptcies      TaxLiens  \n",
       "count  99796.000000  99990.000000  \n",
       "mean       0.117740      0.029313  \n",
       "std        0.351424      0.258182  \n",
       "min        0.000000      0.000000  \n",
       "25%        0.000000      0.000000  \n",
       "50%        0.000000      0.000000  \n",
       "75%        0.000000      0.000000  \n",
       "max        7.000000     15.000000  "
      ]
     },
     "execution_count": 14,
     "metadata": {},
     "output_type": "execute_result"
    }
   ],
   "source": [
    "datatrain.describe()"
   ]
  },
  {
   "cell_type": "code",
   "execution_count": 15,
   "id": "0b71f281",
   "metadata": {},
   "outputs": [
    {
     "name": "stderr",
     "output_type": "stream",
     "text": [
      "<ipython-input-15-efecbb6bd7c3>:7: SettingWithCopyWarning: \n",
      "A value is trying to be set on a copy of a slice from a DataFrame\n",
      "\n",
      "See the caveats in the documentation: https://pandas.pydata.org/pandas-docs/stable/user_guide/indexing.html#returning-a-view-versus-a-copy\n",
      "  datatest['CreditScore'][i] = datatest[\"CreditScore\"][i]/10\n"
     ]
    },
    {
     "name": "stdout",
     "output_type": "stream",
     "text": [
      "0        747.0\n",
      "1        734.0\n",
      "2        709.0\n",
      "3        727.0\n",
      "4        744.0\n",
      "         ...  \n",
      "10348      NaN\n",
      "10349      NaN\n",
      "10350      NaN\n",
      "10351      NaN\n",
      "10352      NaN\n",
      "Name: CreditScore, Length: 10353, dtype: float64\n"
     ]
    }
   ],
   "source": [
    "#doing same for datatest\n",
    "#Maximum credit score is supposed to be 850\n",
    "# There are credit score more than 850, upon checking in it looks like an extra zero was added to some credit score\n",
    "# Dividing those credit score by 10 made the credit score more accurate.\n",
    "for i in range(len(datatest[\"CreditScore\"])):\n",
    "    if datatest[\"CreditScore\"][i] > 850:\n",
    "        datatest['CreditScore'][i] = datatest[\"CreditScore\"][i]/10\n",
    "print(datatest[\"CreditScore\"])"
   ]
  },
  {
   "cell_type": "code",
   "execution_count": 16,
   "id": "60fdccf0",
   "metadata": {},
   "outputs": [
    {
     "data": {
      "text/html": [
       "<div>\n",
       "<style scoped>\n",
       "    .dataframe tbody tr th:only-of-type {\n",
       "        vertical-align: middle;\n",
       "    }\n",
       "\n",
       "    .dataframe tbody tr th {\n",
       "        vertical-align: top;\n",
       "    }\n",
       "\n",
       "    .dataframe thead th {\n",
       "        text-align: right;\n",
       "    }\n",
       "</style>\n",
       "<table border=\"1\" class=\"dataframe\">\n",
       "  <thead>\n",
       "    <tr style=\"text-align: right;\">\n",
       "      <th></th>\n",
       "      <th>CurrentLoanAmount</th>\n",
       "      <th>CreditScore</th>\n",
       "      <th>AnnualIncome</th>\n",
       "      <th>MonthlyDebt</th>\n",
       "      <th>YearsofCreditHistory</th>\n",
       "      <th>Monthssincelastdelinquent</th>\n",
       "      <th>NumberofOpenAccounts</th>\n",
       "      <th>NumberofCreditProblems</th>\n",
       "      <th>CurrentCreditBalance</th>\n",
       "      <th>MaximumOpenCredit</th>\n",
       "      <th>Bankruptcies</th>\n",
       "      <th>TaxLiens</th>\n",
       "    </tr>\n",
       "  </thead>\n",
       "  <tbody>\n",
       "    <tr>\n",
       "      <th>count</th>\n",
       "      <td>1.000000e+04</td>\n",
       "      <td>8019.000000</td>\n",
       "      <td>8.019000e+03</td>\n",
       "      <td>10000.000000</td>\n",
       "      <td>10000.000000</td>\n",
       "      <td>4694.000000</td>\n",
       "      <td>10000.00000</td>\n",
       "      <td>10000.000000</td>\n",
       "      <td>1.000000e+04</td>\n",
       "      <td>1.000000e+04</td>\n",
       "      <td>9978.000000</td>\n",
       "      <td>9999.000000</td>\n",
       "    </tr>\n",
       "    <tr>\n",
       "      <th>mean</th>\n",
       "      <td>1.160380e+07</td>\n",
       "      <td>716.631251</td>\n",
       "      <td>1.369106e+06</td>\n",
       "      <td>18429.671699</td>\n",
       "      <td>18.235930</td>\n",
       "      <td>34.964636</td>\n",
       "      <td>11.08410</td>\n",
       "      <td>0.165500</td>\n",
       "      <td>2.907301e+05</td>\n",
       "      <td>6.871308e+05</td>\n",
       "      <td>0.116356</td>\n",
       "      <td>0.030803</td>\n",
       "    </tr>\n",
       "    <tr>\n",
       "      <th>std</th>\n",
       "      <td>3.160010e+07</td>\n",
       "      <td>28.233359</td>\n",
       "      <td>8.687557e+05</td>\n",
       "      <td>12399.956192</td>\n",
       "      <td>7.018356</td>\n",
       "      <td>21.640291</td>\n",
       "      <td>5.02338</td>\n",
       "      <td>0.500934</td>\n",
       "      <td>3.881687e+05</td>\n",
       "      <td>1.861394e+06</td>\n",
       "      <td>0.349961</td>\n",
       "      <td>0.288215</td>\n",
       "    </tr>\n",
       "    <tr>\n",
       "      <th>min</th>\n",
       "      <td>1.947000e+04</td>\n",
       "      <td>585.000000</td>\n",
       "      <td>8.109200e+04</td>\n",
       "      <td>0.000000</td>\n",
       "      <td>3.800000</td>\n",
       "      <td>0.000000</td>\n",
       "      <td>1.00000</td>\n",
       "      <td>0.000000</td>\n",
       "      <td>0.000000e+00</td>\n",
       "      <td>0.000000e+00</td>\n",
       "      <td>0.000000</td>\n",
       "      <td>0.000000</td>\n",
       "    </tr>\n",
       "    <tr>\n",
       "      <th>25%</th>\n",
       "      <td>1.789480e+05</td>\n",
       "      <td>704.000000</td>\n",
       "      <td>8.483405e+05</td>\n",
       "      <td>10202.857500</td>\n",
       "      <td>13.600000</td>\n",
       "      <td>17.000000</td>\n",
       "      <td>7.00000</td>\n",
       "      <td>0.000000</td>\n",
       "      <td>1.086515e+05</td>\n",
       "      <td>2.706000e+05</td>\n",
       "      <td>0.000000</td>\n",
       "      <td>0.000000</td>\n",
       "    </tr>\n",
       "    <tr>\n",
       "      <th>50%</th>\n",
       "      <td>3.092760e+05</td>\n",
       "      <td>723.000000</td>\n",
       "      <td>1.168272e+06</td>\n",
       "      <td>16052.055000</td>\n",
       "      <td>17.000000</td>\n",
       "      <td>32.000000</td>\n",
       "      <td>10.00000</td>\n",
       "      <td>0.000000</td>\n",
       "      <td>2.075180e+05</td>\n",
       "      <td>4.626050e+05</td>\n",
       "      <td>0.000000</td>\n",
       "      <td>0.000000</td>\n",
       "    </tr>\n",
       "    <tr>\n",
       "      <th>75%</th>\n",
       "      <td>5.157075e+05</td>\n",
       "      <td>739.000000</td>\n",
       "      <td>1.664390e+06</td>\n",
       "      <td>23881.337500</td>\n",
       "      <td>21.700000</td>\n",
       "      <td>50.000000</td>\n",
       "      <td>14.00000</td>\n",
       "      <td>0.000000</td>\n",
       "      <td>3.624630e+05</td>\n",
       "      <td>7.861150e+05</td>\n",
       "      <td>0.000000</td>\n",
       "      <td>0.000000</td>\n",
       "    </tr>\n",
       "    <tr>\n",
       "      <th>max</th>\n",
       "      <td>1.000000e+08</td>\n",
       "      <td>751.000000</td>\n",
       "      <td>1.781535e+07</td>\n",
       "      <td>229057.920000</td>\n",
       "      <td>62.500000</td>\n",
       "      <td>131.000000</td>\n",
       "      <td>55.00000</td>\n",
       "      <td>10.000000</td>\n",
       "      <td>1.623744e+07</td>\n",
       "      <td>1.459073e+08</td>\n",
       "      <td>5.000000</td>\n",
       "      <td>9.000000</td>\n",
       "    </tr>\n",
       "  </tbody>\n",
       "</table>\n",
       "</div>"
      ],
      "text/plain": [
       "       CurrentLoanAmount  CreditScore  AnnualIncome    MonthlyDebt  \\\n",
       "count       1.000000e+04  8019.000000  8.019000e+03   10000.000000   \n",
       "mean        1.160380e+07   716.631251  1.369106e+06   18429.671699   \n",
       "std         3.160010e+07    28.233359  8.687557e+05   12399.956192   \n",
       "min         1.947000e+04   585.000000  8.109200e+04       0.000000   \n",
       "25%         1.789480e+05   704.000000  8.483405e+05   10202.857500   \n",
       "50%         3.092760e+05   723.000000  1.168272e+06   16052.055000   \n",
       "75%         5.157075e+05   739.000000  1.664390e+06   23881.337500   \n",
       "max         1.000000e+08   751.000000  1.781535e+07  229057.920000   \n",
       "\n",
       "       YearsofCreditHistory  Monthssincelastdelinquent  NumberofOpenAccounts  \\\n",
       "count          10000.000000                4694.000000           10000.00000   \n",
       "mean              18.235930                  34.964636              11.08410   \n",
       "std                7.018356                  21.640291               5.02338   \n",
       "min                3.800000                   0.000000               1.00000   \n",
       "25%               13.600000                  17.000000               7.00000   \n",
       "50%               17.000000                  32.000000              10.00000   \n",
       "75%               21.700000                  50.000000              14.00000   \n",
       "max               62.500000                 131.000000              55.00000   \n",
       "\n",
       "       NumberofCreditProblems  CurrentCreditBalance  MaximumOpenCredit  \\\n",
       "count            10000.000000          1.000000e+04       1.000000e+04   \n",
       "mean                 0.165500          2.907301e+05       6.871308e+05   \n",
       "std                  0.500934          3.881687e+05       1.861394e+06   \n",
       "min                  0.000000          0.000000e+00       0.000000e+00   \n",
       "25%                  0.000000          1.086515e+05       2.706000e+05   \n",
       "50%                  0.000000          2.075180e+05       4.626050e+05   \n",
       "75%                  0.000000          3.624630e+05       7.861150e+05   \n",
       "max                 10.000000          1.623744e+07       1.459073e+08   \n",
       "\n",
       "       Bankruptcies     TaxLiens  \n",
       "count   9978.000000  9999.000000  \n",
       "mean       0.116356     0.030803  \n",
       "std        0.349961     0.288215  \n",
       "min        0.000000     0.000000  \n",
       "25%        0.000000     0.000000  \n",
       "50%        0.000000     0.000000  \n",
       "75%        0.000000     0.000000  \n",
       "max        5.000000     9.000000  "
      ]
     },
     "execution_count": 16,
     "metadata": {},
     "output_type": "execute_result"
    }
   ],
   "source": [
    "datatest.describe()"
   ]
  },
  {
   "cell_type": "code",
   "execution_count": 17,
   "id": "5e231fb9",
   "metadata": {},
   "outputs": [
    {
     "data": {
      "text/plain": [
       "LoanID                        object\n",
       "CustomerID                    object\n",
       "LoanStatus                    object\n",
       "CurrentLoanAmount            float64\n",
       "Term                          object\n",
       "CreditScore                  float64\n",
       "AnnualIncome                 float64\n",
       "Yearsincurrentjob             object\n",
       "HomeOwnership                 object\n",
       "Purpose                       object\n",
       "MonthlyDebt                  float64\n",
       "YearsofCreditHistory         float64\n",
       "Monthssincelastdelinquent    float64\n",
       "NumberofOpenAccounts         float64\n",
       "NumberofCreditProblems       float64\n",
       "CurrentCreditBalance         float64\n",
       "MaximumOpenCredit            float64\n",
       "Bankruptcies                 float64\n",
       "TaxLiens                     float64\n",
       "dtype: object"
      ]
     },
     "execution_count": 17,
     "metadata": {},
     "output_type": "execute_result"
    }
   ],
   "source": [
    "datatrain.dtypes"
   ]
  },
  {
   "cell_type": "code",
   "execution_count": 18,
   "id": "b5881a7d",
   "metadata": {},
   "outputs": [
    {
     "data": {
      "text/plain": [
       "(100514, 19)"
      ]
     },
     "execution_count": 18,
     "metadata": {},
     "output_type": "execute_result"
    }
   ],
   "source": [
    "datatrain.shape"
   ]
  },
  {
   "cell_type": "code",
   "execution_count": 19,
   "id": "3d1207ae",
   "metadata": {},
   "outputs": [
    {
     "data": {
      "text/plain": [
       "(10353, 18)"
      ]
     },
     "execution_count": 19,
     "metadata": {},
     "output_type": "execute_result"
    }
   ],
   "source": [
    "datatest.shape"
   ]
  },
  {
   "cell_type": "code",
   "execution_count": 20,
   "id": "b7a96d8b",
   "metadata": {},
   "outputs": [
    {
     "data": {
      "text/plain": [
       "LoanID                         514\n",
       "CustomerID                     514\n",
       "LoanStatus                     514\n",
       "CurrentLoanAmount              514\n",
       "Term                           514\n",
       "CreditScore                  19668\n",
       "AnnualIncome                 19668\n",
       "Yearsincurrentjob             4736\n",
       "HomeOwnership                  514\n",
       "Purpose                        514\n",
       "MonthlyDebt                    514\n",
       "YearsofCreditHistory           514\n",
       "Monthssincelastdelinquent    53655\n",
       "NumberofOpenAccounts           514\n",
       "NumberofCreditProblems         514\n",
       "CurrentCreditBalance           514\n",
       "MaximumOpenCredit              516\n",
       "Bankruptcies                   718\n",
       "TaxLiens                       524\n",
       "dtype: int64"
      ]
     },
     "execution_count": 20,
     "metadata": {},
     "output_type": "execute_result"
    }
   ],
   "source": [
    "datatrain.isnull().sum()"
   ]
  },
  {
   "cell_type": "code",
   "execution_count": 21,
   "id": "eaf5cc65",
   "metadata": {},
   "outputs": [
    {
     "data": {
      "text/plain": [
       "LoanID                        353\n",
       "CustomerID                    353\n",
       "CurrentLoanAmount             353\n",
       "Term                          353\n",
       "CreditScore                  2334\n",
       "AnnualIncome                 2334\n",
       "Yearsincurrentjob             780\n",
       "HomeOwnership                 353\n",
       "Purpose                       353\n",
       "MonthlyDebt                   353\n",
       "YearsofCreditHistory          353\n",
       "Monthssincelastdelinquent    5659\n",
       "NumberofOpenAccounts          353\n",
       "NumberofCreditProblems        353\n",
       "CurrentCreditBalance          353\n",
       "MaximumOpenCredit             353\n",
       "Bankruptcies                  375\n",
       "TaxLiens                      354\n",
       "dtype: int64"
      ]
     },
     "execution_count": 21,
     "metadata": {},
     "output_type": "execute_result"
    }
   ],
   "source": [
    "datatest.isnull().sum()"
   ]
  },
  {
   "cell_type": "code",
   "execution_count": 22,
   "id": "0f9d72b0",
   "metadata": {},
   "outputs": [],
   "source": [
    "datatrain = datatrain[datatrain[\"LoanID\"].notnull()]"
   ]
  },
  {
   "cell_type": "code",
   "execution_count": 23,
   "id": "2f69db28",
   "metadata": {},
   "outputs": [],
   "source": [
    "datatest = datatest[datatest[\"LoanID\"].notnull()]"
   ]
  },
  {
   "cell_type": "code",
   "execution_count": 24,
   "id": "5fe0d8d5",
   "metadata": {},
   "outputs": [
    {
     "data": {
      "text/plain": [
       "LoanID                           0\n",
       "CustomerID                       0\n",
       "LoanStatus                       0\n",
       "CurrentLoanAmount                0\n",
       "Term                             0\n",
       "CreditScore                  19154\n",
       "AnnualIncome                 19154\n",
       "Yearsincurrentjob             4222\n",
       "HomeOwnership                    0\n",
       "Purpose                          0\n",
       "MonthlyDebt                      0\n",
       "YearsofCreditHistory             0\n",
       "Monthssincelastdelinquent    53141\n",
       "NumberofOpenAccounts             0\n",
       "NumberofCreditProblems           0\n",
       "CurrentCreditBalance             0\n",
       "MaximumOpenCredit                2\n",
       "Bankruptcies                   204\n",
       "TaxLiens                        10\n",
       "dtype: int64"
      ]
     },
     "execution_count": 24,
     "metadata": {},
     "output_type": "execute_result"
    }
   ],
   "source": [
    "datatrain.isnull().sum()\n"
   ]
  },
  {
   "cell_type": "code",
   "execution_count": 25,
   "id": "9b0a238b",
   "metadata": {},
   "outputs": [
    {
     "data": {
      "text/plain": [
       "LoanID                          0\n",
       "CustomerID                      0\n",
       "CurrentLoanAmount               0\n",
       "Term                            0\n",
       "CreditScore                  1981\n",
       "AnnualIncome                 1981\n",
       "Yearsincurrentjob             427\n",
       "HomeOwnership                   0\n",
       "Purpose                         0\n",
       "MonthlyDebt                     0\n",
       "YearsofCreditHistory            0\n",
       "Monthssincelastdelinquent    5306\n",
       "NumberofOpenAccounts            0\n",
       "NumberofCreditProblems          0\n",
       "CurrentCreditBalance            0\n",
       "MaximumOpenCredit               0\n",
       "Bankruptcies                   22\n",
       "TaxLiens                        1\n",
       "dtype: int64"
      ]
     },
     "execution_count": 25,
     "metadata": {},
     "output_type": "execute_result"
    }
   ],
   "source": [
    "datatest.isnull().sum()"
   ]
  },
  {
   "cell_type": "code",
   "execution_count": 26,
   "id": "451827ca",
   "metadata": {},
   "outputs": [],
   "source": [
    "datatrain = datatrain[datatrain[\"Bankruptcies\"].notnull()]"
   ]
  },
  {
   "cell_type": "code",
   "execution_count": 27,
   "id": "1ca81319",
   "metadata": {},
   "outputs": [],
   "source": [
    "datatrain = datatrain[datatrain[\"TaxLiens\"].notnull()]"
   ]
  },
  {
   "cell_type": "code",
   "execution_count": 28,
   "id": "3575b203",
   "metadata": {},
   "outputs": [],
   "source": [
    "datatest = datatest[datatest[\"Bankruptcies\"].notnull()]\n",
    "datatest = datatest[datatest[\"TaxLiens\"].notnull()]"
   ]
  },
  {
   "cell_type": "code",
   "execution_count": 29,
   "id": "ff086a58",
   "metadata": {},
   "outputs": [
    {
     "data": {
      "text/plain": [
       "LoanID                           0\n",
       "CustomerID                       0\n",
       "LoanStatus                       0\n",
       "CurrentLoanAmount                0\n",
       "Term                             0\n",
       "CreditScore                  19112\n",
       "AnnualIncome                 19112\n",
       "Yearsincurrentjob             4222\n",
       "HomeOwnership                    0\n",
       "Purpose                          0\n",
       "MonthlyDebt                      0\n",
       "YearsofCreditHistory             0\n",
       "Monthssincelastdelinquent    53140\n",
       "NumberofOpenAccounts             0\n",
       "NumberofCreditProblems           0\n",
       "CurrentCreditBalance             0\n",
       "MaximumOpenCredit                2\n",
       "Bankruptcies                     0\n",
       "TaxLiens                         0\n",
       "dtype: int64"
      ]
     },
     "execution_count": 29,
     "metadata": {},
     "output_type": "execute_result"
    }
   ],
   "source": [
    "datatrain.isnull().sum()"
   ]
  },
  {
   "cell_type": "code",
   "execution_count": 30,
   "id": "8f35f358",
   "metadata": {},
   "outputs": [
    {
     "data": {
      "text/plain": [
       "LoanID                          0\n",
       "CustomerID                      0\n",
       "CurrentLoanAmount               0\n",
       "Term                            0\n",
       "CreditScore                  1978\n",
       "AnnualIncome                 1978\n",
       "Yearsincurrentjob             427\n",
       "HomeOwnership                   0\n",
       "Purpose                         0\n",
       "MonthlyDebt                     0\n",
       "YearsofCreditHistory            0\n",
       "Monthssincelastdelinquent    5306\n",
       "NumberofOpenAccounts            0\n",
       "NumberofCreditProblems          0\n",
       "CurrentCreditBalance            0\n",
       "MaximumOpenCredit               0\n",
       "Bankruptcies                    0\n",
       "TaxLiens                        0\n",
       "dtype: int64"
      ]
     },
     "execution_count": 30,
     "metadata": {},
     "output_type": "execute_result"
    }
   ],
   "source": [
    "datatest.isnull().sum()"
   ]
  },
  {
   "cell_type": "code",
   "execution_count": 31,
   "id": "b228e334",
   "metadata": {},
   "outputs": [],
   "source": [
    "#Using mean to fill the numerical variable datatrain\n",
    "datatrain.CreditScore = datatrain.CreditScore.fillna(datatrain.CreditScore.mean())\n",
    "datatrain.AnnualIncome = datatrain.AnnualIncome.fillna(datatrain.AnnualIncome.mean())\n",
    "datatrain.Monthssincelastdelinquent = datatrain.Monthssincelastdelinquent.fillna(datatrain.Monthssincelastdelinquent.mean())\n",
    "\n",
    "#Using same method.....mean to fill the numerical variable for datatest\n",
    "datatest.CreditScore = datatest.CreditScore.fillna(datatest.CreditScore.mean())\n",
    "datatest.AnnualIncome = datatest.AnnualIncome.fillna(datatest.AnnualIncome.mean())\n",
    "datatest.Monthssincelastdelinquent = datatest.Monthssincelastdelinquent.fillna(datatest.Monthssincelastdelinquent.mean())\n",
    "\n"
   ]
  },
  {
   "cell_type": "code",
   "execution_count": 32,
   "id": "9abab4c7",
   "metadata": {},
   "outputs": [],
   "source": [
    "#Removing \"Years\" from the column to make it numerical  value instead of categorical \n",
    "datatrain[\"Yearsincurrentjob\"] = datatrain[\"Yearsincurrentjob\"].str.extract('(\\d+)', expand= False)\n",
    "datatest[\"Yearsincurrentjob\"] = datatest[\"Yearsincurrentjob\"].str.extract('(\\d+)', expand= False)\n",
    "\n",
    "#Converting data type to float to get the mean value and fill the missng value with it. \n",
    "datatrain['Yearsincurrentjob'] = datatrain['Yearsincurrentjob'].astype(float, errors = 'raise')\n",
    "datatest['Yearsincurrentjob'] = datatest['Yearsincurrentjob'].astype(float, errors = 'raise')\n"
   ]
  },
  {
   "cell_type": "code",
   "execution_count": 33,
   "id": "db706423",
   "metadata": {},
   "outputs": [],
   "source": [
    "datatrain.Yearsincurrentjob = datatrain.Yearsincurrentjob.fillna(datatrain.Yearsincurrentjob.mean())\n",
    "datatest.Yearsincurrentjob = datatest.Yearsincurrentjob.fillna(datatest.Yearsincurrentjob.mean())"
   ]
  },
  {
   "cell_type": "code",
   "execution_count": 34,
   "id": "13ce7683",
   "metadata": {},
   "outputs": [
    {
     "data": {
      "text/plain": [
       "LoanID                       0\n",
       "CustomerID                   0\n",
       "LoanStatus                   0\n",
       "CurrentLoanAmount            0\n",
       "Term                         0\n",
       "CreditScore                  0\n",
       "AnnualIncome                 0\n",
       "Yearsincurrentjob            0\n",
       "HomeOwnership                0\n",
       "Purpose                      0\n",
       "MonthlyDebt                  0\n",
       "YearsofCreditHistory         0\n",
       "Monthssincelastdelinquent    0\n",
       "NumberofOpenAccounts         0\n",
       "NumberofCreditProblems       0\n",
       "CurrentCreditBalance         0\n",
       "MaximumOpenCredit            2\n",
       "Bankruptcies                 0\n",
       "TaxLiens                     0\n",
       "dtype: int64"
      ]
     },
     "execution_count": 34,
     "metadata": {},
     "output_type": "execute_result"
    }
   ],
   "source": [
    "datatrain.isnull().sum()"
   ]
  },
  {
   "cell_type": "code",
   "execution_count": 35,
   "id": "e50fd4d0",
   "metadata": {},
   "outputs": [
    {
     "data": {
      "text/plain": [
       "LoanID                       0\n",
       "CustomerID                   0\n",
       "CurrentLoanAmount            0\n",
       "Term                         0\n",
       "CreditScore                  0\n",
       "AnnualIncome                 0\n",
       "Yearsincurrentjob            0\n",
       "HomeOwnership                0\n",
       "Purpose                      0\n",
       "MonthlyDebt                  0\n",
       "YearsofCreditHistory         0\n",
       "Monthssincelastdelinquent    0\n",
       "NumberofOpenAccounts         0\n",
       "NumberofCreditProblems       0\n",
       "CurrentCreditBalance         0\n",
       "MaximumOpenCredit            0\n",
       "Bankruptcies                 0\n",
       "TaxLiens                     0\n",
       "dtype: int64"
      ]
     },
     "execution_count": 35,
     "metadata": {},
     "output_type": "execute_result"
    }
   ],
   "source": [
    "datatest.isnull().sum()"
   ]
  },
  {
   "cell_type": "code",
   "execution_count": 36,
   "id": "314fb59c",
   "metadata": {},
   "outputs": [
    {
     "data": {
      "text/plain": [
       "<AxesSubplot:>"
      ]
     },
     "execution_count": 36,
     "metadata": {},
     "output_type": "execute_result"
    },
    {
     "data": {
      "image/png": "[encoded data removed]",
      "text/plain": [
       "<Figure size 432x288 with 1 Axes>"
      ]
     },
     "metadata": {
      "needs_background": "light"
     },
     "output_type": "display_data"
    }
   ],
   "source": [
    "datatrain[\"LoanStatus\"].value_counts().plot.bar()"
   ]
  },
  {
   "cell_type": "code",
   "execution_count": 37,
   "id": "7b675812",
   "metadata": {},
   "outputs": [
    {
     "data": {
      "text/plain": [
       "Fully Paid     0.773648\n",
       "Charged Off    0.226352\n",
       "Name: LoanStatus, dtype: float64"
      ]
     },
     "execution_count": 37,
     "metadata": {},
     "output_type": "execute_result"
    }
   ],
   "source": [
    "datatrain[\"LoanStatus\"].value_counts(normalize=True) "
   ]
  },
  {
   "cell_type": "raw",
   "id": "6c64494e",
   "metadata": {},
   "source": [
    "# 77% of loan has been fully paid"
   ]
  },
  {
   "cell_type": "code",
   "execution_count": 38,
   "id": "d85bf56e",
   "metadata": {},
   "outputs": [
    {
     "data": {
      "image/png": "[encoded data removed]",
      "text/plain": [
       "<Figure size 432x288 with 1 Axes>"
      ]
     },
     "metadata": {
      "needs_background": "light"
     },
     "output_type": "display_data"
    },
    {
     "data": {
      "image/png": "[encoded data removed]",
      "text/plain": [
       "<Figure size 432x288 with 1 Axes>"
      ]
     },
     "metadata": {
      "needs_background": "light"
     },
     "output_type": "display_data"
    },
    {
     "data": {
      "image/png": "[encoded data removed]",
      "text/plain": [
       "<Figure size 432x288 with 1 Axes>"
      ]
     },
     "metadata": {
      "needs_background": "light"
     },
     "output_type": "display_data"
    }
   ],
   "source": [
    "#Plotting independent variable\n",
    "datatrain[\"HomeOwnership\"].value_counts(normalize=True).plot.bar(title=\"HomeOwnership\")\n",
    "plt.show()\n",
    "datatrain[\"Purpose\"].value_counts(normalize=True).plot.bar(title=\"Purpose\")\n",
    "plt.show()\n",
    "datatrain[\"Term\"].value_counts(normalize=True).plot.bar(title=\"Term\")\n",
    "plt.show()"
   ]
  },
  {
   "cell_type": "code",
   "execution_count": 39,
   "id": "5c5204e4",
   "metadata": {},
   "outputs": [
    {
     "data": {
      "text/plain": [
       "<AxesSubplot:>"
      ]
     },
     "execution_count": 39,
     "metadata": {},
     "output_type": "execute_result"
    },
    {
     "data": {
      "image/png": "[encoded data removed]",
      "text/plain": [
       "<Figure size 432x288 with 1 Axes>"
      ]
     },
     "metadata": {
      "needs_background": "light"
     },
     "output_type": "display_data"
    }
   ],
   "source": [
    "datatrain[\"AnnualIncome\"].hist(bins=20)"
   ]
  },
  {
   "cell_type": "code",
   "execution_count": 40,
   "id": "7b464e8f",
   "metadata": {},
   "outputs": [
    {
     "data": {
      "text/plain": [
       "<AxesSubplot:>"
      ]
     },
     "execution_count": 40,
     "metadata": {},
     "output_type": "execute_result"
    },
    {
     "data": {
      "image/png": "[encoded data removed]",
      "text/plain": [
       "<Figure size 432x288 with 1 Axes>"
      ]
     },
     "metadata": {
      "needs_background": "light"
     },
     "output_type": "display_data"
    }
   ],
   "source": [
    "datatest[\"AnnualIncome\"].hist(bins=20)"
   ]
  },
  {
   "cell_type": "code",
   "execution_count": 41,
   "id": "1ad06b4f",
   "metadata": {},
   "outputs": [],
   "source": [
    "#normalizing Annual Income\n",
    "datatrain[\"AnnualIncome_log\"] = np.log(datatrain[\"AnnualIncome\"])\n",
    "datatest[\"AnnualIncome_log\"] = np.log(datatest[\"AnnualIncome\"])"
   ]
  },
  {
   "cell_type": "code",
   "execution_count": 42,
   "id": "f999b483",
   "metadata": {},
   "outputs": [
    {
     "data": {
      "text/plain": [
       "<AxesSubplot:>"
      ]
     },
     "execution_count": 42,
     "metadata": {},
     "output_type": "execute_result"
    },
    {
     "data": {
      "image/png": "[encoded data removed]",
      "text/plain": [
       "<Figure size 432x288 with 1 Axes>"
      ]
     },
     "metadata": {
      "needs_background": "light"
     },
     "output_type": "display_data"
    }
   ],
   "source": [
    "datatrain[\"AnnualIncome_log\"].hist(bins=20)"
   ]
  },
  {
   "cell_type": "code",
   "execution_count": 43,
   "id": "32d5cf65",
   "metadata": {},
   "outputs": [
    {
     "data": {
      "text/plain": [
       "<AxesSubplot:>"
      ]
     },
     "execution_count": 43,
     "metadata": {},
     "output_type": "execute_result"
    },
    {
     "data": {
      "image/png": "[encoded data removed]",
      "text/plain": [
       "<Figure size 432x288 with 1 Axes>"
      ]
     },
     "metadata": {
      "needs_background": "light"
     },
     "output_type": "display_data"
    }
   ],
   "source": [
    "datatest[\"AnnualIncome_log\"].hist(bins=20)"
   ]
  },
  {
   "cell_type": "code",
   "execution_count": 44,
   "id": "f9a62af2",
   "metadata": {},
   "outputs": [
    {
     "data": {
      "text/plain": [
       "<AxesSubplot:>"
      ]
     },
     "execution_count": 44,
     "metadata": {},
     "output_type": "execute_result"
    },
    {
     "data": {
      "image/png": "[encoded data removed]",
      "text/plain": [
       "<Figure size 432x288 with 1 Axes>"
      ]
     },
     "metadata": {
      "needs_background": "light"
     },
     "output_type": "display_data"
    }
   ],
   "source": [
    "datatrain[\"CurrentLoanAmount\"].hist(bins=20)"
   ]
  },
  {
   "cell_type": "code",
   "execution_count": 45,
   "id": "f7099cab",
   "metadata": {},
   "outputs": [
    {
     "data": {
      "text/plain": [
       "<AxesSubplot:>"
      ]
     },
     "execution_count": 45,
     "metadata": {},
     "output_type": "execute_result"
    },
    {
     "data": {
      "image/png": "[encoded data removed]",
      "text/plain": [
       "<Figure size 432x288 with 1 Axes>"
      ]
     },
     "metadata": {
      "needs_background": "light"
     },
     "output_type": "display_data"
    }
   ],
   "source": [
    "datatest[\"CurrentLoanAmount\"].hist(bins=20)"
   ]
  },
  {
   "cell_type": "code",
   "execution_count": 46,
   "id": "2878cb37",
   "metadata": {},
   "outputs": [],
   "source": [
    "#normalizing Annual Income\n",
    "datatrain[\"CurrentLoanAmount_log\"] = np.log(datatrain[\"CurrentLoanAmount\"])\n",
    "datatest[\"CurrentLoanAmount_log\"] = np.log(datatest[\"CurrentLoanAmount\"])"
   ]
  },
  {
   "cell_type": "code",
   "execution_count": 47,
   "id": "5cc2a923",
   "metadata": {},
   "outputs": [
    {
     "data": {
      "text/plain": [
       "<AxesSubplot:>"
      ]
     },
     "execution_count": 47,
     "metadata": {},
     "output_type": "execute_result"
    },
    {
     "data": {
      "image/png": "[encoded data removed]",
      "text/plain": [
       "<Figure size 432x288 with 1 Axes>"
      ]
     },
     "metadata": {
      "needs_background": "light"
     },
     "output_type": "display_data"
    }
   ],
   "source": [
    "datatrain[\"CurrentLoanAmount_log\"].hist(bins=20)"
   ]
  },
  {
   "cell_type": "code",
   "execution_count": 48,
   "id": "6e5c1208",
   "metadata": {},
   "outputs": [
    {
     "data": {
      "text/plain": [
       "<AxesSubplot:>"
      ]
     },
     "execution_count": 48,
     "metadata": {},
     "output_type": "execute_result"
    },
    {
     "data": {
      "image/png": "[encoded data removed]",
      "text/plain": [
       "<Figure size 432x288 with 1 Axes>"
      ]
     },
     "metadata": {
      "needs_background": "light"
     },
     "output_type": "display_data"
    }
   ],
   "source": [
    "datatest[\"CurrentLoanAmount_log\"].hist(bins=20)"
   ]
  },
  {
   "cell_type": "code",
   "execution_count": 49,
   "id": "2211883a",
   "metadata": {},
   "outputs": [
    {
     "data": {
      "text/plain": [
       "<AxesSubplot:>"
      ]
     },
     "execution_count": 49,
     "metadata": {},
     "output_type": "execute_result"
    },
    {
     "data": {
      "image/png": "[encoded data removed]",
      "text/plain": [
       "<Figure size 432x288 with 1 Axes>"
      ]
     },
     "metadata": {
      "needs_background": "light"
     },
     "output_type": "display_data"
    }
   ],
   "source": [
    "datatrain[\"CreditScore\"].hist(bins=20)"
   ]
  },
  {
   "cell_type": "code",
   "execution_count": 50,
   "id": "2e1708c2",
   "metadata": {},
   "outputs": [],
   "source": [
    "datatrain[\"CreditScore_log\"] = np.log(datatrain[\"CreditScore\"])\n",
    "datatest[\"CreditScore_log\"] = np.log(datatrain[\"CreditScore\"])"
   ]
  },
  {
   "cell_type": "code",
   "execution_count": 51,
   "id": "800adbbb",
   "metadata": {},
   "outputs": [
    {
     "data": {
      "text/plain": [
       "<AxesSubplot:>"
      ]
     },
     "execution_count": 51,
     "metadata": {},
     "output_type": "execute_result"
    },
    {
     "data": {
      "image/png": "[encoded data removed]",
      "text/plain": [
       "<Figure size 432x288 with 1 Axes>"
      ]
     },
     "metadata": {
      "needs_background": "light"
     },
     "output_type": "display_data"
    }
   ],
   "source": [
    "datatrain[\"CreditScore_log\"].hist(bins=20)"
   ]
  },
  {
   "cell_type": "code",
   "execution_count": 52,
   "id": "b2aef100",
   "metadata": {},
   "outputs": [
    {
     "data": {
      "text/plain": [
       "<AxesSubplot:>"
      ]
     },
     "execution_count": 52,
     "metadata": {},
     "output_type": "execute_result"
    },
    {
     "data": {
      "image/png": "[encoded data removed]",
      "text/plain": [
       "<Figure size 432x288 with 1 Axes>"
      ]
     },
     "metadata": {
      "needs_background": "light"
     },
     "output_type": "display_data"
    }
   ],
   "source": [
    "datatest[\"CreditScore_log\"].hist(bins=20)"
   ]
  },
  {
   "cell_type": "code",
   "execution_count": 53,
   "id": "d3cc4981",
   "metadata": {},
   "outputs": [],
   "source": [
    "datatrain[\"LoanStatus\"] = datatrain['LoanStatus'].replace(['Fully Paid', 'Charged Off'], ['Y', 'N'])"
   ]
  },
  {
   "cell_type": "code",
   "execution_count": 54,
   "id": "fa93cc38",
   "metadata": {},
   "outputs": [
    {
     "data": {
      "text/html": [
       "<div>\n",
       "<style scoped>\n",
       "    .dataframe tbody tr th:only-of-type {\n",
       "        vertical-align: middle;\n",
       "    }\n",
       "\n",
       "    .dataframe tbody tr th {\n",
       "        vertical-align: top;\n",
       "    }\n",
       "\n",
       "    .dataframe thead th {\n",
       "        text-align: right;\n",
       "    }\n",
       "</style>\n",
       "<table border=\"1\" class=\"dataframe\">\n",
       "  <thead>\n",
       "    <tr style=\"text-align: right;\">\n",
       "      <th>LoanStatus</th>\n",
       "      <th>N</th>\n",
       "      <th>Y</th>\n",
       "      <th>All</th>\n",
       "    </tr>\n",
       "    <tr>\n",
       "      <th>AnnualIncome</th>\n",
       "      <th></th>\n",
       "      <th></th>\n",
       "      <th></th>\n",
       "    </tr>\n",
       "  </thead>\n",
       "  <tbody>\n",
       "    <tr>\n",
       "      <th>76627.0</th>\n",
       "      <td>1</td>\n",
       "      <td>0</td>\n",
       "      <td>1</td>\n",
       "    </tr>\n",
       "    <tr>\n",
       "      <th>81092.0</th>\n",
       "      <td>0</td>\n",
       "      <td>1</td>\n",
       "      <td>1</td>\n",
       "    </tr>\n",
       "    <tr>\n",
       "      <th>94867.0</th>\n",
       "      <td>0</td>\n",
       "      <td>1</td>\n",
       "      <td>1</td>\n",
       "    </tr>\n",
       "    <tr>\n",
       "      <th>106533.0</th>\n",
       "      <td>0</td>\n",
       "      <td>1</td>\n",
       "      <td>1</td>\n",
       "    </tr>\n",
       "    <tr>\n",
       "      <th>111245.0</th>\n",
       "      <td>0</td>\n",
       "      <td>2</td>\n",
       "      <td>2</td>\n",
       "    </tr>\n",
       "    <tr>\n",
       "      <th>...</th>\n",
       "      <td>...</td>\n",
       "      <td>...</td>\n",
       "      <td>...</td>\n",
       "    </tr>\n",
       "    <tr>\n",
       "      <th>28095300.0</th>\n",
       "      <td>0</td>\n",
       "      <td>1</td>\n",
       "      <td>1</td>\n",
       "    </tr>\n",
       "    <tr>\n",
       "      <th>30838995.0</th>\n",
       "      <td>1</td>\n",
       "      <td>0</td>\n",
       "      <td>1</td>\n",
       "    </tr>\n",
       "    <tr>\n",
       "      <th>36475440.0</th>\n",
       "      <td>0</td>\n",
       "      <td>1</td>\n",
       "      <td>1</td>\n",
       "    </tr>\n",
       "    <tr>\n",
       "      <th>165557393.0</th>\n",
       "      <td>1</td>\n",
       "      <td>0</td>\n",
       "      <td>1</td>\n",
       "    </tr>\n",
       "    <tr>\n",
       "      <th>All</th>\n",
       "      <td>22589</td>\n",
       "      <td>77207</td>\n",
       "      <td>99796</td>\n",
       "    </tr>\n",
       "  </tbody>\n",
       "</table>\n",
       "<p>36130 rows × 3 columns</p>\n",
       "</div>"
      ],
      "text/plain": [
       "LoanStatus        N      Y    All\n",
       "AnnualIncome                     \n",
       "76627.0           1      0      1\n",
       "81092.0           0      1      1\n",
       "94867.0           0      1      1\n",
       "106533.0          0      1      1\n",
       "111245.0          0      2      2\n",
       "...             ...    ...    ...\n",
       "28095300.0        0      1      1\n",
       "30838995.0        1      0      1\n",
       "36475440.0        0      1      1\n",
       "165557393.0       1      0      1\n",
       "All           22589  77207  99796\n",
       "\n",
       "[36130 rows x 3 columns]"
      ]
     },
     "execution_count": 54,
     "metadata": {},
     "output_type": "execute_result"
    }
   ],
   "source": [
    "pd.crosstab(datatrain['AnnualIncome'], datatrain['LoanStatus'], margins =True)"
   ]
  },
  {
   "cell_type": "markdown",
   "id": "c7caec30",
   "metadata": {},
   "source": [
    "# finding relation between target variable and catagorical independent variable"
   ]
  },
  {
   "cell_type": "code",
   "execution_count": 55,
   "id": "0dd53b29",
   "metadata": {},
   "outputs": [
    {
     "data": {
      "image/png": "[encoded data removed]",
      "text/plain": [
       "<Figure size 288x288 with 1 Axes>"
      ]
     },
     "metadata": {
      "needs_background": "light"
     },
     "output_type": "display_data"
    },
    {
     "data": {
      "image/png": "[encoded data removed]",
      "text/plain": [
       "<Figure size 288x288 with 1 Axes>"
      ]
     },
     "metadata": {
      "needs_background": "light"
     },
     "output_type": "display_data"
    },
    {
     "data": {
      "image/png": "[encoded data removed]",
      "text/plain": [
       "<Figure size 288x288 with 1 Axes>"
      ]
     },
     "metadata": {
      "needs_background": "light"
     },
     "output_type": "display_data"
    }
   ],
   "source": [
    "Term=pd.crosstab(datatrain[\"Term\"],datatrain[\"LoanStatus\"])\n",
    "Term.div(Term.sum(1).astype(float), axis=0).plot(kind=\"bar\",stacked=True,figsize=(4,4))\n",
    "plt.show()\n",
    "\n",
    "HomeOwnership=pd.crosstab(datatrain[\"HomeOwnership\"],datatrain[\"LoanStatus\"])\n",
    "HomeOwnership.div(HomeOwnership.sum(1).astype(float), axis=0).plot(kind=\"bar\",stacked=True,figsize=(4,4))\n",
    "plt.show()\n",
    "\n",
    "Purpose=pd.crosstab(datatrain[\"Purpose\"],datatrain[\"LoanStatus\"])\n",
    "Purpose.div(Purpose.sum(1).astype(float), axis=0).plot(kind=\"bar\",stacked=True,figsize=(4,4))\n",
    "plt.show()\n"
   ]
  },
  {
   "cell_type": "raw",
   "id": "5ddcadfe",
   "metadata": {},
   "source": [
    "# short term loan has more approval compared to long term loan. Perosn renting home/apartment has less loan approval compared to others.Buy a car has hightest loan approval rate , while  Renewable enery, small business has lowest approval rate."
   ]
  },
  {
   "cell_type": "code",
   "execution_count": 56,
   "id": "04d5d853",
   "metadata": {},
   "outputs": [
    {
     "data": {
      "text/plain": [
       "<AxesSubplot:>"
      ]
     },
     "execution_count": 56,
     "metadata": {},
     "output_type": "execute_result"
    },
    {
     "data": {
      "image/png": "[encoded data removed]",
      "text/plain": [
       "<Figure size 1440x1080 with 2 Axes>"
      ]
     },
     "metadata": {
      "needs_background": "light"
     },
     "output_type": "display_data"
    }
   ],
   "source": [
    "matrix = datatrain.corr()\n",
    "f, ax = plt.subplots(figsize=(20,15))\n",
    "sns.heatmap(matrix,vmax=.8,square=True,cmap=\"BuPu\", annot = True)\n"
   ]
  },
  {
   "cell_type": "code",
   "execution_count": 57,
   "id": "5d784621",
   "metadata": {},
   "outputs": [],
   "source": [
    "datatrain[\"LoanStatus\"].replace(\"N\", 0,inplace=True)\n",
    "datatrain[\"LoanStatus\"].replace(\"Y\", 1,inplace=True)\n",
    "\n",
    "datatrain['LoanStatus'] = datatrain['LoanStatus'].astype(float, errors = 'raise')"
   ]
  },
  {
   "cell_type": "code",
   "execution_count": 58,
   "id": "e8dd1fc0",
   "metadata": {},
   "outputs": [
    {
     "data": {
      "text/plain": [
       "<AxesSubplot:>"
      ]
     },
     "execution_count": 58,
     "metadata": {},
     "output_type": "execute_result"
    },
    {
     "data": {
      "image/png": "[encoded data removed]",
      "text/plain": [
       "<Figure size 1080x720 with 2 Axes>"
      ]
     },
     "metadata": {
      "needs_background": "light"
     },
     "output_type": "display_data"
    }
   ],
   "source": [
    "matrix = datatrain.corr()\n",
    "f, ax = plt.subplots(figsize=(15,10))\n",
    "sns.heatmap(matrix,vmax=.8,square=True,cmap=\"BuPu\", annot = True)\n"
   ]
  },
  {
   "cell_type": "markdown",
   "id": "1c03f4ab",
   "metadata": {},
   "source": [
    "#LoanStatus and current loan amount are slightly co-related. Bankruptcies and number of credit problem are highly co-related, so is taxlines and number of credit problem. Monthly debty and curret credit balance are corelated too. Current credit card balance and Number of open account are co-related to monthly debt."
   ]
  },
  {
   "cell_type": "markdown",
   "id": "9c27e55f",
   "metadata": {},
   "source": [
    "# Model Building : Part I"
   ]
  },
  {
   "cell_type": "code",
   "execution_count": 59,
   "id": "c85c4f3a",
   "metadata": {},
   "outputs": [
    {
     "data": {
      "text/html": [
       "<div>\n",
       "<style scoped>\n",
       "    .dataframe tbody tr th:only-of-type {\n",
       "        vertical-align: middle;\n",
       "    }\n",
       "\n",
       "    .dataframe tbody tr th {\n",
       "        vertical-align: top;\n",
       "    }\n",
       "\n",
       "    .dataframe thead th {\n",
       "        text-align: right;\n",
       "    }\n",
       "</style>\n",
       "<table border=\"1\" class=\"dataframe\">\n",
       "  <thead>\n",
       "    <tr style=\"text-align: right;\">\n",
       "      <th></th>\n",
       "      <th>LoanID</th>\n",
       "      <th>CustomerID</th>\n",
       "      <th>LoanStatus</th>\n",
       "      <th>CurrentLoanAmount</th>\n",
       "      <th>Term</th>\n",
       "      <th>CreditScore</th>\n",
       "      <th>AnnualIncome</th>\n",
       "      <th>Yearsincurrentjob</th>\n",
       "      <th>HomeOwnership</th>\n",
       "      <th>Purpose</th>\n",
       "      <th>...</th>\n",
       "      <th>Monthssincelastdelinquent</th>\n",
       "      <th>NumberofOpenAccounts</th>\n",
       "      <th>NumberofCreditProblems</th>\n",
       "      <th>CurrentCreditBalance</th>\n",
       "      <th>MaximumOpenCredit</th>\n",
       "      <th>Bankruptcies</th>\n",
       "      <th>TaxLiens</th>\n",
       "      <th>AnnualIncome_log</th>\n",
       "      <th>CurrentLoanAmount_log</th>\n",
       "      <th>CreditScore_log</th>\n",
       "    </tr>\n",
       "  </thead>\n",
       "  <tbody>\n",
       "    <tr>\n",
       "      <th>0</th>\n",
       "      <td>14dd8831-6af5-400b-83ec-68e61888a048</td>\n",
       "      <td>981165ec-3274-42f5-a3b4-d104041a9ca9</td>\n",
       "      <td>1.0</td>\n",
       "      <td>445412.0</td>\n",
       "      <td>Short Term</td>\n",
       "      <td>709.000000</td>\n",
       "      <td>1.167493e+06</td>\n",
       "      <td>8.0</td>\n",
       "      <td>Home Mortgage</td>\n",
       "      <td>Home Improvements</td>\n",
       "      <td>...</td>\n",
       "      <td>34.988447</td>\n",
       "      <td>6.0</td>\n",
       "      <td>1.0</td>\n",
       "      <td>228190.0</td>\n",
       "      <td>416746.0</td>\n",
       "      <td>1.0</td>\n",
       "      <td>0.0</td>\n",
       "      <td>13.970369</td>\n",
       "      <td>13.006755</td>\n",
       "      <td>6.563856</td>\n",
       "    </tr>\n",
       "    <tr>\n",
       "      <th>1</th>\n",
       "      <td>4771cc26-131a-45db-b5aa-537ea4ba5342</td>\n",
       "      <td>2de017a3-2e01-49cb-a581-08169e83be29</td>\n",
       "      <td>1.0</td>\n",
       "      <td>262328.0</td>\n",
       "      <td>Short Term</td>\n",
       "      <td>716.278506</td>\n",
       "      <td>1.378344e+06</td>\n",
       "      <td>10.0</td>\n",
       "      <td>Home Mortgage</td>\n",
       "      <td>Debt Consolidation</td>\n",
       "      <td>...</td>\n",
       "      <td>8.000000</td>\n",
       "      <td>35.0</td>\n",
       "      <td>0.0</td>\n",
       "      <td>229976.0</td>\n",
       "      <td>850784.0</td>\n",
       "      <td>0.0</td>\n",
       "      <td>0.0</td>\n",
       "      <td>14.136394</td>\n",
       "      <td>12.477351</td>\n",
       "      <td>6.574069</td>\n",
       "    </tr>\n",
       "    <tr>\n",
       "      <th>2</th>\n",
       "      <td>4eed4e6a-aa2f-4c91-8651-ce984ee8fb26</td>\n",
       "      <td>5efb2b2b-bf11-4dfd-a572-3761a2694725</td>\n",
       "      <td>1.0</td>\n",
       "      <td>99999999.0</td>\n",
       "      <td>Short Term</td>\n",
       "      <td>741.000000</td>\n",
       "      <td>2.231892e+06</td>\n",
       "      <td>8.0</td>\n",
       "      <td>Own Home</td>\n",
       "      <td>Debt Consolidation</td>\n",
       "      <td>...</td>\n",
       "      <td>29.000000</td>\n",
       "      <td>18.0</td>\n",
       "      <td>1.0</td>\n",
       "      <td>297996.0</td>\n",
       "      <td>750090.0</td>\n",
       "      <td>0.0</td>\n",
       "      <td>0.0</td>\n",
       "      <td>14.618360</td>\n",
       "      <td>18.420681</td>\n",
       "      <td>6.608001</td>\n",
       "    </tr>\n",
       "    <tr>\n",
       "      <th>3</th>\n",
       "      <td>77598f7b-32e7-4e3b-a6e5-06ba0d98fe8a</td>\n",
       "      <td>e777faab-98ae-45af-9a86-7ce5b33b1011</td>\n",
       "      <td>1.0</td>\n",
       "      <td>347666.0</td>\n",
       "      <td>Long Term</td>\n",
       "      <td>721.000000</td>\n",
       "      <td>8.069490e+05</td>\n",
       "      <td>3.0</td>\n",
       "      <td>Own Home</td>\n",
       "      <td>Debt Consolidation</td>\n",
       "      <td>...</td>\n",
       "      <td>34.988447</td>\n",
       "      <td>9.0</td>\n",
       "      <td>0.0</td>\n",
       "      <td>256329.0</td>\n",
       "      <td>386958.0</td>\n",
       "      <td>0.0</td>\n",
       "      <td>0.0</td>\n",
       "      <td>13.601016</td>\n",
       "      <td>12.758998</td>\n",
       "      <td>6.580639</td>\n",
       "    </tr>\n",
       "    <tr>\n",
       "      <th>4</th>\n",
       "      <td>d4062e70-befa-4995-8643-a0de73938182</td>\n",
       "      <td>81536ad9-5ccf-4eb8-befb-47a4d608658e</td>\n",
       "      <td>1.0</td>\n",
       "      <td>176220.0</td>\n",
       "      <td>Short Term</td>\n",
       "      <td>716.278506</td>\n",
       "      <td>1.378344e+06</td>\n",
       "      <td>5.0</td>\n",
       "      <td>Rent</td>\n",
       "      <td>Debt Consolidation</td>\n",
       "      <td>...</td>\n",
       "      <td>34.988447</td>\n",
       "      <td>15.0</td>\n",
       "      <td>0.0</td>\n",
       "      <td>253460.0</td>\n",
       "      <td>427174.0</td>\n",
       "      <td>0.0</td>\n",
       "      <td>0.0</td>\n",
       "      <td>14.136394</td>\n",
       "      <td>12.079488</td>\n",
       "      <td>6.574069</td>\n",
       "    </tr>\n",
       "  </tbody>\n",
       "</table>\n",
       "<p>5 rows × 22 columns</p>\n",
       "</div>"
      ],
      "text/plain": [
       "                                 LoanID                            CustomerID  \\\n",
       "0  14dd8831-6af5-400b-83ec-68e61888a048  981165ec-3274-42f5-a3b4-d104041a9ca9   \n",
       "1  4771cc26-131a-45db-b5aa-537ea4ba5342  2de017a3-2e01-49cb-a581-08169e83be29   \n",
       "2  4eed4e6a-aa2f-4c91-8651-ce984ee8fb26  5efb2b2b-bf11-4dfd-a572-3761a2694725   \n",
       "3  77598f7b-32e7-4e3b-a6e5-06ba0d98fe8a  e777faab-98ae-45af-9a86-7ce5b33b1011   \n",
       "4  d4062e70-befa-4995-8643-a0de73938182  81536ad9-5ccf-4eb8-befb-47a4d608658e   \n",
       "\n",
       "   LoanStatus  CurrentLoanAmount        Term  CreditScore  AnnualIncome  \\\n",
       "0         1.0           445412.0  Short Term   709.000000  1.167493e+06   \n",
       "1         1.0           262328.0  Short Term   716.278506  1.378344e+06   \n",
       "2         1.0         99999999.0  Short Term   741.000000  2.231892e+06   \n",
       "3         1.0           347666.0   Long Term   721.000000  8.069490e+05   \n",
       "4         1.0           176220.0  Short Term   716.278506  1.378344e+06   \n",
       "\n",
       "   Yearsincurrentjob  HomeOwnership             Purpose  ...  \\\n",
       "0                8.0  Home Mortgage   Home Improvements  ...   \n",
       "1               10.0  Home Mortgage  Debt Consolidation  ...   \n",
       "2                8.0       Own Home  Debt Consolidation  ...   \n",
       "3                3.0       Own Home  Debt Consolidation  ...   \n",
       "4                5.0           Rent  Debt Consolidation  ...   \n",
       "\n",
       "   Monthssincelastdelinquent  NumberofOpenAccounts  NumberofCreditProblems  \\\n",
       "0                  34.988447                   6.0                     1.0   \n",
       "1                   8.000000                  35.0                     0.0   \n",
       "2                  29.000000                  18.0                     1.0   \n",
       "3                  34.988447                   9.0                     0.0   \n",
       "4                  34.988447                  15.0                     0.0   \n",
       "\n",
       "   CurrentCreditBalance  MaximumOpenCredit  Bankruptcies  TaxLiens  \\\n",
       "0              228190.0           416746.0           1.0       0.0   \n",
       "1              229976.0           850784.0           0.0       0.0   \n",
       "2              297996.0           750090.0           0.0       0.0   \n",
       "3              256329.0           386958.0           0.0       0.0   \n",
       "4              253460.0           427174.0           0.0       0.0   \n",
       "\n",
       "   AnnualIncome_log  CurrentLoanAmount_log  CreditScore_log  \n",
       "0         13.970369              13.006755         6.563856  \n",
       "1         14.136394              12.477351         6.574069  \n",
       "2         14.618360              18.420681         6.608001  \n",
       "3         13.601016              12.758998         6.580639  \n",
       "4         14.136394              12.079488         6.574069  \n",
       "\n",
       "[5 rows x 22 columns]"
      ]
     },
     "execution_count": 59,
     "metadata": {},
     "output_type": "execute_result"
    }
   ],
   "source": [
    "datatrain.head()"
   ]
  },
  {
   "cell_type": "code",
   "execution_count": 60,
   "id": "fa446252",
   "metadata": {},
   "outputs": [],
   "source": [
    "#droping loan_id and customerid since it does not effect loan status\n",
    "datatrain = datatrain.drop(\"LoanID\",axis=1)\n",
    "datatrain = datatrain.drop(\"CustomerID\",axis=1)\n",
    "datatest = datatest.drop(\"LoanID\",axis=1)\n",
    "datatest = datatest.drop(\"CustomerID\",axis=1)"
   ]
  },
  {
   "cell_type": "code",
   "execution_count": 61,
   "id": "53f2179f",
   "metadata": {},
   "outputs": [],
   "source": [
    "#droping target variable from training database for scikit-learn\n",
    "X = datatrain.drop(\"LoanStatus\",1)\n",
    "Y = datatrain.LoanStatus"
   ]
  },
  {
   "cell_type": "code",
   "execution_count": 62,
   "id": "c5b713fe",
   "metadata": {},
   "outputs": [
    {
     "data": {
      "text/html": [
       "<div>\n",
       "<style scoped>\n",
       "    .dataframe tbody tr th:only-of-type {\n",
       "        vertical-align: middle;\n",
       "    }\n",
       "\n",
       "    .dataframe tbody tr th {\n",
       "        vertical-align: top;\n",
       "    }\n",
       "\n",
       "    .dataframe thead th {\n",
       "        text-align: right;\n",
       "    }\n",
       "</style>\n",
       "<table border=\"1\" class=\"dataframe\">\n",
       "  <thead>\n",
       "    <tr style=\"text-align: right;\">\n",
       "      <th></th>\n",
       "      <th>CurrentLoanAmount</th>\n",
       "      <th>Term</th>\n",
       "      <th>CreditScore</th>\n",
       "      <th>AnnualIncome</th>\n",
       "      <th>Yearsincurrentjob</th>\n",
       "      <th>HomeOwnership</th>\n",
       "      <th>Purpose</th>\n",
       "      <th>MonthlyDebt</th>\n",
       "      <th>YearsofCreditHistory</th>\n",
       "      <th>Monthssincelastdelinquent</th>\n",
       "      <th>NumberofOpenAccounts</th>\n",
       "      <th>NumberofCreditProblems</th>\n",
       "      <th>CurrentCreditBalance</th>\n",
       "      <th>MaximumOpenCredit</th>\n",
       "      <th>Bankruptcies</th>\n",
       "      <th>TaxLiens</th>\n",
       "      <th>AnnualIncome_log</th>\n",
       "      <th>CurrentLoanAmount_log</th>\n",
       "      <th>CreditScore_log</th>\n",
       "    </tr>\n",
       "  </thead>\n",
       "  <tbody>\n",
       "    <tr>\n",
       "      <th>0</th>\n",
       "      <td>445412.0</td>\n",
       "      <td>Short Term</td>\n",
       "      <td>709.000000</td>\n",
       "      <td>1.167493e+06</td>\n",
       "      <td>8.000000</td>\n",
       "      <td>Home Mortgage</td>\n",
       "      <td>Home Improvements</td>\n",
       "      <td>5214.74</td>\n",
       "      <td>17.2</td>\n",
       "      <td>34.988447</td>\n",
       "      <td>6.0</td>\n",
       "      <td>1.0</td>\n",
       "      <td>228190.0</td>\n",
       "      <td>416746.0</td>\n",
       "      <td>1.0</td>\n",
       "      <td>0.0</td>\n",
       "      <td>13.970369</td>\n",
       "      <td>13.006755</td>\n",
       "      <td>6.563856</td>\n",
       "    </tr>\n",
       "    <tr>\n",
       "      <th>1</th>\n",
       "      <td>262328.0</td>\n",
       "      <td>Short Term</td>\n",
       "      <td>716.278506</td>\n",
       "      <td>1.378344e+06</td>\n",
       "      <td>10.000000</td>\n",
       "      <td>Home Mortgage</td>\n",
       "      <td>Debt Consolidation</td>\n",
       "      <td>33295.98</td>\n",
       "      <td>21.1</td>\n",
       "      <td>8.000000</td>\n",
       "      <td>35.0</td>\n",
       "      <td>0.0</td>\n",
       "      <td>229976.0</td>\n",
       "      <td>850784.0</td>\n",
       "      <td>0.0</td>\n",
       "      <td>0.0</td>\n",
       "      <td>14.136394</td>\n",
       "      <td>12.477351</td>\n",
       "      <td>6.574069</td>\n",
       "    </tr>\n",
       "    <tr>\n",
       "      <th>2</th>\n",
       "      <td>99999999.0</td>\n",
       "      <td>Short Term</td>\n",
       "      <td>741.000000</td>\n",
       "      <td>2.231892e+06</td>\n",
       "      <td>8.000000</td>\n",
       "      <td>Own Home</td>\n",
       "      <td>Debt Consolidation</td>\n",
       "      <td>29200.53</td>\n",
       "      <td>14.9</td>\n",
       "      <td>29.000000</td>\n",
       "      <td>18.0</td>\n",
       "      <td>1.0</td>\n",
       "      <td>297996.0</td>\n",
       "      <td>750090.0</td>\n",
       "      <td>0.0</td>\n",
       "      <td>0.0</td>\n",
       "      <td>14.618360</td>\n",
       "      <td>18.420681</td>\n",
       "      <td>6.608001</td>\n",
       "    </tr>\n",
       "    <tr>\n",
       "      <th>3</th>\n",
       "      <td>347666.0</td>\n",
       "      <td>Long Term</td>\n",
       "      <td>721.000000</td>\n",
       "      <td>8.069490e+05</td>\n",
       "      <td>3.000000</td>\n",
       "      <td>Own Home</td>\n",
       "      <td>Debt Consolidation</td>\n",
       "      <td>8741.90</td>\n",
       "      <td>12.0</td>\n",
       "      <td>34.988447</td>\n",
       "      <td>9.0</td>\n",
       "      <td>0.0</td>\n",
       "      <td>256329.0</td>\n",
       "      <td>386958.0</td>\n",
       "      <td>0.0</td>\n",
       "      <td>0.0</td>\n",
       "      <td>13.601016</td>\n",
       "      <td>12.758998</td>\n",
       "      <td>6.580639</td>\n",
       "    </tr>\n",
       "    <tr>\n",
       "      <th>4</th>\n",
       "      <td>176220.0</td>\n",
       "      <td>Short Term</td>\n",
       "      <td>716.278506</td>\n",
       "      <td>1.378344e+06</td>\n",
       "      <td>5.000000</td>\n",
       "      <td>Rent</td>\n",
       "      <td>Debt Consolidation</td>\n",
       "      <td>20639.70</td>\n",
       "      <td>6.1</td>\n",
       "      <td>34.988447</td>\n",
       "      <td>15.0</td>\n",
       "      <td>0.0</td>\n",
       "      <td>253460.0</td>\n",
       "      <td>427174.0</td>\n",
       "      <td>0.0</td>\n",
       "      <td>0.0</td>\n",
       "      <td>14.136394</td>\n",
       "      <td>12.079488</td>\n",
       "      <td>6.574069</td>\n",
       "    </tr>\n",
       "    <tr>\n",
       "      <th>...</th>\n",
       "      <td>...</td>\n",
       "      <td>...</td>\n",
       "      <td>...</td>\n",
       "      <td>...</td>\n",
       "      <td>...</td>\n",
       "      <td>...</td>\n",
       "      <td>...</td>\n",
       "      <td>...</td>\n",
       "      <td>...</td>\n",
       "      <td>...</td>\n",
       "      <td>...</td>\n",
       "      <td>...</td>\n",
       "      <td>...</td>\n",
       "      <td>...</td>\n",
       "      <td>...</td>\n",
       "      <td>...</td>\n",
       "      <td>...</td>\n",
       "      <td>...</td>\n",
       "      <td>...</td>\n",
       "    </tr>\n",
       "    <tr>\n",
       "      <th>99995</th>\n",
       "      <td>147070.0</td>\n",
       "      <td>Short Term</td>\n",
       "      <td>725.000000</td>\n",
       "      <td>4.754370e+05</td>\n",
       "      <td>7.000000</td>\n",
       "      <td>Own Home</td>\n",
       "      <td>other</td>\n",
       "      <td>2202.86</td>\n",
       "      <td>22.3</td>\n",
       "      <td>34.988447</td>\n",
       "      <td>5.0</td>\n",
       "      <td>0.0</td>\n",
       "      <td>47766.0</td>\n",
       "      <td>658548.0</td>\n",
       "      <td>0.0</td>\n",
       "      <td>0.0</td>\n",
       "      <td>13.071990</td>\n",
       "      <td>11.898664</td>\n",
       "      <td>6.586172</td>\n",
       "    </tr>\n",
       "    <tr>\n",
       "      <th>99996</th>\n",
       "      <td>99999999.0</td>\n",
       "      <td>Short Term</td>\n",
       "      <td>732.000000</td>\n",
       "      <td>1.289416e+06</td>\n",
       "      <td>1.000000</td>\n",
       "      <td>Rent</td>\n",
       "      <td>Debt Consolidation</td>\n",
       "      <td>13109.05</td>\n",
       "      <td>9.4</td>\n",
       "      <td>21.000000</td>\n",
       "      <td>22.0</td>\n",
       "      <td>0.0</td>\n",
       "      <td>153045.0</td>\n",
       "      <td>509234.0</td>\n",
       "      <td>0.0</td>\n",
       "      <td>0.0</td>\n",
       "      <td>14.069700</td>\n",
       "      <td>18.420681</td>\n",
       "      <td>6.595781</td>\n",
       "    </tr>\n",
       "    <tr>\n",
       "      <th>99997</th>\n",
       "      <td>103136.0</td>\n",
       "      <td>Short Term</td>\n",
       "      <td>742.000000</td>\n",
       "      <td>1.150545e+06</td>\n",
       "      <td>6.000000</td>\n",
       "      <td>Rent</td>\n",
       "      <td>Debt Consolidation</td>\n",
       "      <td>7315.57</td>\n",
       "      <td>18.8</td>\n",
       "      <td>18.000000</td>\n",
       "      <td>12.0</td>\n",
       "      <td>1.0</td>\n",
       "      <td>109554.0</td>\n",
       "      <td>537548.0</td>\n",
       "      <td>1.0</td>\n",
       "      <td>0.0</td>\n",
       "      <td>13.955746</td>\n",
       "      <td>11.543804</td>\n",
       "      <td>6.609349</td>\n",
       "    </tr>\n",
       "    <tr>\n",
       "      <th>99998</th>\n",
       "      <td>530332.0</td>\n",
       "      <td>Short Term</td>\n",
       "      <td>746.000000</td>\n",
       "      <td>1.717524e+06</td>\n",
       "      <td>9.000000</td>\n",
       "      <td>Rent</td>\n",
       "      <td>Debt Consolidation</td>\n",
       "      <td>9890.07</td>\n",
       "      <td>15.0</td>\n",
       "      <td>34.988447</td>\n",
       "      <td>8.0</td>\n",
       "      <td>0.0</td>\n",
       "      <td>404225.0</td>\n",
       "      <td>738254.0</td>\n",
       "      <td>0.0</td>\n",
       "      <td>0.0</td>\n",
       "      <td>14.356394</td>\n",
       "      <td>13.181259</td>\n",
       "      <td>6.614726</td>\n",
       "    </tr>\n",
       "    <tr>\n",
       "      <th>99999</th>\n",
       "      <td>99999999.0</td>\n",
       "      <td>Short Term</td>\n",
       "      <td>743.000000</td>\n",
       "      <td>9.351800e+05</td>\n",
       "      <td>5.981763</td>\n",
       "      <td>Own Home</td>\n",
       "      <td>Debt Consolidation</td>\n",
       "      <td>9118.10</td>\n",
       "      <td>13.0</td>\n",
       "      <td>34.988447</td>\n",
       "      <td>4.0</td>\n",
       "      <td>1.0</td>\n",
       "      <td>45600.0</td>\n",
       "      <td>91014.0</td>\n",
       "      <td>1.0</td>\n",
       "      <td>0.0</td>\n",
       "      <td>13.748494</td>\n",
       "      <td>18.420681</td>\n",
       "      <td>6.610696</td>\n",
       "    </tr>\n",
       "  </tbody>\n",
       "</table>\n",
       "<p>99796 rows × 19 columns</p>\n",
       "</div>"
      ],
      "text/plain": [
       "       CurrentLoanAmount        Term  CreditScore  AnnualIncome  \\\n",
       "0               445412.0  Short Term   709.000000  1.167493e+06   \n",
       "1               262328.0  Short Term   716.278506  1.378344e+06   \n",
       "2             99999999.0  Short Term   741.000000  2.231892e+06   \n",
       "3               347666.0   Long Term   721.000000  8.069490e+05   \n",
       "4               176220.0  Short Term   716.278506  1.378344e+06   \n",
       "...                  ...         ...          ...           ...   \n",
       "99995           147070.0  Short Term   725.000000  4.754370e+05   \n",
       "99996         99999999.0  Short Term   732.000000  1.289416e+06   \n",
       "99997           103136.0  Short Term   742.000000  1.150545e+06   \n",
       "99998           530332.0  Short Term   746.000000  1.717524e+06   \n",
       "99999         99999999.0  Short Term   743.000000  9.351800e+05   \n",
       "\n",
       "       Yearsincurrentjob  HomeOwnership             Purpose  MonthlyDebt  \\\n",
       "0               8.000000  Home Mortgage   Home Improvements      5214.74   \n",
       "1              10.000000  Home Mortgage  Debt Consolidation     33295.98   \n",
       "2               8.000000       Own Home  Debt Consolidation     29200.53   \n",
       "3               3.000000       Own Home  Debt Consolidation      8741.90   \n",
       "4               5.000000           Rent  Debt Consolidation     20639.70   \n",
       "...                  ...            ...                 ...          ...   \n",
       "99995           7.000000       Own Home               other      2202.86   \n",
       "99996           1.000000           Rent  Debt Consolidation     13109.05   \n",
       "99997           6.000000           Rent  Debt Consolidation      7315.57   \n",
       "99998           9.000000           Rent  Debt Consolidation      9890.07   \n",
       "99999           5.981763       Own Home  Debt Consolidation      9118.10   \n",
       "\n",
       "       YearsofCreditHistory  Monthssincelastdelinquent  NumberofOpenAccounts  \\\n",
       "0                      17.2                  34.988447                   6.0   \n",
       "1                      21.1                   8.000000                  35.0   \n",
       "2                      14.9                  29.000000                  18.0   \n",
       "3                      12.0                  34.988447                   9.0   \n",
       "4                       6.1                  34.988447                  15.0   \n",
       "...                     ...                        ...                   ...   \n",
       "99995                  22.3                  34.988447                   5.0   \n",
       "99996                   9.4                  21.000000                  22.0   \n",
       "99997                  18.8                  18.000000                  12.0   \n",
       "99998                  15.0                  34.988447                   8.0   \n",
       "99999                  13.0                  34.988447                   4.0   \n",
       "\n",
       "       NumberofCreditProblems  CurrentCreditBalance  MaximumOpenCredit  \\\n",
       "0                         1.0              228190.0           416746.0   \n",
       "1                         0.0              229976.0           850784.0   \n",
       "2                         1.0              297996.0           750090.0   \n",
       "3                         0.0              256329.0           386958.0   \n",
       "4                         0.0              253460.0           427174.0   \n",
       "...                       ...                   ...                ...   \n",
       "99995                     0.0               47766.0           658548.0   \n",
       "99996                     0.0              153045.0           509234.0   \n",
       "99997                     1.0              109554.0           537548.0   \n",
       "99998                     0.0              404225.0           738254.0   \n",
       "99999                     1.0               45600.0            91014.0   \n",
       "\n",
       "       Bankruptcies  TaxLiens  AnnualIncome_log  CurrentLoanAmount_log  \\\n",
       "0               1.0       0.0         13.970369              13.006755   \n",
       "1               0.0       0.0         14.136394              12.477351   \n",
       "2               0.0       0.0         14.618360              18.420681   \n",
       "3               0.0       0.0         13.601016              12.758998   \n",
       "4               0.0       0.0         14.136394              12.079488   \n",
       "...             ...       ...               ...                    ...   \n",
       "99995           0.0       0.0         13.071990              11.898664   \n",
       "99996           0.0       0.0         14.069700              18.420681   \n",
       "99997           1.0       0.0         13.955746              11.543804   \n",
       "99998           0.0       0.0         14.356394              13.181259   \n",
       "99999           1.0       0.0         13.748494              18.420681   \n",
       "\n",
       "       CreditScore_log  \n",
       "0             6.563856  \n",
       "1             6.574069  \n",
       "2             6.608001  \n",
       "3             6.580639  \n",
       "4             6.574069  \n",
       "...                ...  \n",
       "99995         6.586172  \n",
       "99996         6.595781  \n",
       "99997         6.609349  \n",
       "99998         6.614726  \n",
       "99999         6.610696  \n",
       "\n",
       "[99796 rows x 19 columns]"
      ]
     },
     "execution_count": 62,
     "metadata": {},
     "output_type": "execute_result"
    }
   ],
   "source": [
    "X"
   ]
  },
  {
   "cell_type": "code",
   "execution_count": 63,
   "id": "4b2505b0",
   "metadata": {},
   "outputs": [
    {
     "data": {
      "text/plain": [
       "0        1.0\n",
       "1        1.0\n",
       "2        1.0\n",
       "3        1.0\n",
       "4        1.0\n",
       "        ... \n",
       "99995    1.0\n",
       "99996    1.0\n",
       "99997    1.0\n",
       "99998    1.0\n",
       "99999    1.0\n",
       "Name: LoanStatus, Length: 99796, dtype: float64"
      ]
     },
     "execution_count": 63,
     "metadata": {},
     "output_type": "execute_result"
    }
   ],
   "source": [
    "Y"
   ]
  },
  {
   "cell_type": "code",
   "execution_count": 64,
   "id": "0e1d9bd2",
   "metadata": {},
   "outputs": [],
   "source": [
    "#making dummy variable for catagorical variable so the catagorical variable can be turned into series of 0 and 1\n",
    "X = pd.get_dummies(X)\n",
    "datatrain=pd.get_dummies(datatrain)\n",
    "datatest=pd.get_dummies(datatest)"
   ]
  },
  {
   "cell_type": "code",
   "execution_count": 65,
   "id": "02a25016",
   "metadata": {},
   "outputs": [
    {
     "data": {
      "text/html": [
       "<div>\n",
       "<style scoped>\n",
       "    .dataframe tbody tr th:only-of-type {\n",
       "        vertical-align: middle;\n",
       "    }\n",
       "\n",
       "    .dataframe tbody tr th {\n",
       "        vertical-align: top;\n",
       "    }\n",
       "\n",
       "    .dataframe thead th {\n",
       "        text-align: right;\n",
       "    }\n",
       "</style>\n",
       "<table border=\"1\" class=\"dataframe\">\n",
       "  <thead>\n",
       "    <tr style=\"text-align: right;\">\n",
       "      <th></th>\n",
       "      <th>CurrentLoanAmount</th>\n",
       "      <th>CreditScore</th>\n",
       "      <th>AnnualIncome</th>\n",
       "      <th>Yearsincurrentjob</th>\n",
       "      <th>MonthlyDebt</th>\n",
       "      <th>YearsofCreditHistory</th>\n",
       "      <th>Monthssincelastdelinquent</th>\n",
       "      <th>NumberofOpenAccounts</th>\n",
       "      <th>NumberofCreditProblems</th>\n",
       "      <th>CurrentCreditBalance</th>\n",
       "      <th>...</th>\n",
       "      <th>Purpose_Medical Bills</th>\n",
       "      <th>Purpose_Other</th>\n",
       "      <th>Purpose_Take a Trip</th>\n",
       "      <th>Purpose_major_purchase</th>\n",
       "      <th>Purpose_moving</th>\n",
       "      <th>Purpose_other</th>\n",
       "      <th>Purpose_renewable_energy</th>\n",
       "      <th>Purpose_small_business</th>\n",
       "      <th>Purpose_vacation</th>\n",
       "      <th>Purpose_wedding</th>\n",
       "    </tr>\n",
       "  </thead>\n",
       "  <tbody>\n",
       "    <tr>\n",
       "      <th>0</th>\n",
       "      <td>445412.0</td>\n",
       "      <td>709.000000</td>\n",
       "      <td>1.167493e+06</td>\n",
       "      <td>8.000000</td>\n",
       "      <td>5214.74</td>\n",
       "      <td>17.2</td>\n",
       "      <td>34.988447</td>\n",
       "      <td>6.0</td>\n",
       "      <td>1.0</td>\n",
       "      <td>228190.0</td>\n",
       "      <td>...</td>\n",
       "      <td>0</td>\n",
       "      <td>0</td>\n",
       "      <td>0</td>\n",
       "      <td>0</td>\n",
       "      <td>0</td>\n",
       "      <td>0</td>\n",
       "      <td>0</td>\n",
       "      <td>0</td>\n",
       "      <td>0</td>\n",
       "      <td>0</td>\n",
       "    </tr>\n",
       "    <tr>\n",
       "      <th>1</th>\n",
       "      <td>262328.0</td>\n",
       "      <td>716.278506</td>\n",
       "      <td>1.378344e+06</td>\n",
       "      <td>10.000000</td>\n",
       "      <td>33295.98</td>\n",
       "      <td>21.1</td>\n",
       "      <td>8.000000</td>\n",
       "      <td>35.0</td>\n",
       "      <td>0.0</td>\n",
       "      <td>229976.0</td>\n",
       "      <td>...</td>\n",
       "      <td>0</td>\n",
       "      <td>0</td>\n",
       "      <td>0</td>\n",
       "      <td>0</td>\n",
       "      <td>0</td>\n",
       "      <td>0</td>\n",
       "      <td>0</td>\n",
       "      <td>0</td>\n",
       "      <td>0</td>\n",
       "      <td>0</td>\n",
       "    </tr>\n",
       "    <tr>\n",
       "      <th>2</th>\n",
       "      <td>99999999.0</td>\n",
       "      <td>741.000000</td>\n",
       "      <td>2.231892e+06</td>\n",
       "      <td>8.000000</td>\n",
       "      <td>29200.53</td>\n",
       "      <td>14.9</td>\n",
       "      <td>29.000000</td>\n",
       "      <td>18.0</td>\n",
       "      <td>1.0</td>\n",
       "      <td>297996.0</td>\n",
       "      <td>...</td>\n",
       "      <td>0</td>\n",
       "      <td>0</td>\n",
       "      <td>0</td>\n",
       "      <td>0</td>\n",
       "      <td>0</td>\n",
       "      <td>0</td>\n",
       "      <td>0</td>\n",
       "      <td>0</td>\n",
       "      <td>0</td>\n",
       "      <td>0</td>\n",
       "    </tr>\n",
       "    <tr>\n",
       "      <th>3</th>\n",
       "      <td>347666.0</td>\n",
       "      <td>721.000000</td>\n",
       "      <td>8.069490e+05</td>\n",
       "      <td>3.000000</td>\n",
       "      <td>8741.90</td>\n",
       "      <td>12.0</td>\n",
       "      <td>34.988447</td>\n",
       "      <td>9.0</td>\n",
       "      <td>0.0</td>\n",
       "      <td>256329.0</td>\n",
       "      <td>...</td>\n",
       "      <td>0</td>\n",
       "      <td>0</td>\n",
       "      <td>0</td>\n",
       "      <td>0</td>\n",
       "      <td>0</td>\n",
       "      <td>0</td>\n",
       "      <td>0</td>\n",
       "      <td>0</td>\n",
       "      <td>0</td>\n",
       "      <td>0</td>\n",
       "    </tr>\n",
       "    <tr>\n",
       "      <th>4</th>\n",
       "      <td>176220.0</td>\n",
       "      <td>716.278506</td>\n",
       "      <td>1.378344e+06</td>\n",
       "      <td>5.000000</td>\n",
       "      <td>20639.70</td>\n",
       "      <td>6.1</td>\n",
       "      <td>34.988447</td>\n",
       "      <td>15.0</td>\n",
       "      <td>0.0</td>\n",
       "      <td>253460.0</td>\n",
       "      <td>...</td>\n",
       "      <td>0</td>\n",
       "      <td>0</td>\n",
       "      <td>0</td>\n",
       "      <td>0</td>\n",
       "      <td>0</td>\n",
       "      <td>0</td>\n",
       "      <td>0</td>\n",
       "      <td>0</td>\n",
       "      <td>0</td>\n",
       "      <td>0</td>\n",
       "    </tr>\n",
       "    <tr>\n",
       "      <th>...</th>\n",
       "      <td>...</td>\n",
       "      <td>...</td>\n",
       "      <td>...</td>\n",
       "      <td>...</td>\n",
       "      <td>...</td>\n",
       "      <td>...</td>\n",
       "      <td>...</td>\n",
       "      <td>...</td>\n",
       "      <td>...</td>\n",
       "      <td>...</td>\n",
       "      <td>...</td>\n",
       "      <td>...</td>\n",
       "      <td>...</td>\n",
       "      <td>...</td>\n",
       "      <td>...</td>\n",
       "      <td>...</td>\n",
       "      <td>...</td>\n",
       "      <td>...</td>\n",
       "      <td>...</td>\n",
       "      <td>...</td>\n",
       "      <td>...</td>\n",
       "    </tr>\n",
       "    <tr>\n",
       "      <th>99995</th>\n",
       "      <td>147070.0</td>\n",
       "      <td>725.000000</td>\n",
       "      <td>4.754370e+05</td>\n",
       "      <td>7.000000</td>\n",
       "      <td>2202.86</td>\n",
       "      <td>22.3</td>\n",
       "      <td>34.988447</td>\n",
       "      <td>5.0</td>\n",
       "      <td>0.0</td>\n",
       "      <td>47766.0</td>\n",
       "      <td>...</td>\n",
       "      <td>0</td>\n",
       "      <td>0</td>\n",
       "      <td>0</td>\n",
       "      <td>0</td>\n",
       "      <td>0</td>\n",
       "      <td>1</td>\n",
       "      <td>0</td>\n",
       "      <td>0</td>\n",
       "      <td>0</td>\n",
       "      <td>0</td>\n",
       "    </tr>\n",
       "    <tr>\n",
       "      <th>99996</th>\n",
       "      <td>99999999.0</td>\n",
       "      <td>732.000000</td>\n",
       "      <td>1.289416e+06</td>\n",
       "      <td>1.000000</td>\n",
       "      <td>13109.05</td>\n",
       "      <td>9.4</td>\n",
       "      <td>21.000000</td>\n",
       "      <td>22.0</td>\n",
       "      <td>0.0</td>\n",
       "      <td>153045.0</td>\n",
       "      <td>...</td>\n",
       "      <td>0</td>\n",
       "      <td>0</td>\n",
       "      <td>0</td>\n",
       "      <td>0</td>\n",
       "      <td>0</td>\n",
       "      <td>0</td>\n",
       "      <td>0</td>\n",
       "      <td>0</td>\n",
       "      <td>0</td>\n",
       "      <td>0</td>\n",
       "    </tr>\n",
       "    <tr>\n",
       "      <th>99997</th>\n",
       "      <td>103136.0</td>\n",
       "      <td>742.000000</td>\n",
       "      <td>1.150545e+06</td>\n",
       "      <td>6.000000</td>\n",
       "      <td>7315.57</td>\n",
       "      <td>18.8</td>\n",
       "      <td>18.000000</td>\n",
       "      <td>12.0</td>\n",
       "      <td>1.0</td>\n",
       "      <td>109554.0</td>\n",
       "      <td>...</td>\n",
       "      <td>0</td>\n",
       "      <td>0</td>\n",
       "      <td>0</td>\n",
       "      <td>0</td>\n",
       "      <td>0</td>\n",
       "      <td>0</td>\n",
       "      <td>0</td>\n",
       "      <td>0</td>\n",
       "      <td>0</td>\n",
       "      <td>0</td>\n",
       "    </tr>\n",
       "    <tr>\n",
       "      <th>99998</th>\n",
       "      <td>530332.0</td>\n",
       "      <td>746.000000</td>\n",
       "      <td>1.717524e+06</td>\n",
       "      <td>9.000000</td>\n",
       "      <td>9890.07</td>\n",
       "      <td>15.0</td>\n",
       "      <td>34.988447</td>\n",
       "      <td>8.0</td>\n",
       "      <td>0.0</td>\n",
       "      <td>404225.0</td>\n",
       "      <td>...</td>\n",
       "      <td>0</td>\n",
       "      <td>0</td>\n",
       "      <td>0</td>\n",
       "      <td>0</td>\n",
       "      <td>0</td>\n",
       "      <td>0</td>\n",
       "      <td>0</td>\n",
       "      <td>0</td>\n",
       "      <td>0</td>\n",
       "      <td>0</td>\n",
       "    </tr>\n",
       "    <tr>\n",
       "      <th>99999</th>\n",
       "      <td>99999999.0</td>\n",
       "      <td>743.000000</td>\n",
       "      <td>9.351800e+05</td>\n",
       "      <td>5.981763</td>\n",
       "      <td>9118.10</td>\n",
       "      <td>13.0</td>\n",
       "      <td>34.988447</td>\n",
       "      <td>4.0</td>\n",
       "      <td>1.0</td>\n",
       "      <td>45600.0</td>\n",
       "      <td>...</td>\n",
       "      <td>0</td>\n",
       "      <td>0</td>\n",
       "      <td>0</td>\n",
       "      <td>0</td>\n",
       "      <td>0</td>\n",
       "      <td>0</td>\n",
       "      <td>0</td>\n",
       "      <td>0</td>\n",
       "      <td>0</td>\n",
       "      <td>0</td>\n",
       "    </tr>\n",
       "  </tbody>\n",
       "</table>\n",
       "<p>99796 rows × 38 columns</p>\n",
       "</div>"
      ],
      "text/plain": [
       "       CurrentLoanAmount  CreditScore  AnnualIncome  Yearsincurrentjob  \\\n",
       "0               445412.0   709.000000  1.167493e+06           8.000000   \n",
       "1               262328.0   716.278506  1.378344e+06          10.000000   \n",
       "2             99999999.0   741.000000  2.231892e+06           8.000000   \n",
       "3               347666.0   721.000000  8.069490e+05           3.000000   \n",
       "4               176220.0   716.278506  1.378344e+06           5.000000   \n",
       "...                  ...          ...           ...                ...   \n",
       "99995           147070.0   725.000000  4.754370e+05           7.000000   \n",
       "99996         99999999.0   732.000000  1.289416e+06           1.000000   \n",
       "99997           103136.0   742.000000  1.150545e+06           6.000000   \n",
       "99998           530332.0   746.000000  1.717524e+06           9.000000   \n",
       "99999         99999999.0   743.000000  9.351800e+05           5.981763   \n",
       "\n",
       "       MonthlyDebt  YearsofCreditHistory  Monthssincelastdelinquent  \\\n",
       "0          5214.74                  17.2                  34.988447   \n",
       "1         33295.98                  21.1                   8.000000   \n",
       "2         29200.53                  14.9                  29.000000   \n",
       "3          8741.90                  12.0                  34.988447   \n",
       "4         20639.70                   6.1                  34.988447   \n",
       "...            ...                   ...                        ...   \n",
       "99995      2202.86                  22.3                  34.988447   \n",
       "99996     13109.05                   9.4                  21.000000   \n",
       "99997      7315.57                  18.8                  18.000000   \n",
       "99998      9890.07                  15.0                  34.988447   \n",
       "99999      9118.10                  13.0                  34.988447   \n",
       "\n",
       "       NumberofOpenAccounts  NumberofCreditProblems  CurrentCreditBalance  \\\n",
       "0                       6.0                     1.0              228190.0   \n",
       "1                      35.0                     0.0              229976.0   \n",
       "2                      18.0                     1.0              297996.0   \n",
       "3                       9.0                     0.0              256329.0   \n",
       "4                      15.0                     0.0              253460.0   \n",
       "...                     ...                     ...                   ...   \n",
       "99995                   5.0                     0.0               47766.0   \n",
       "99996                  22.0                     0.0              153045.0   \n",
       "99997                  12.0                     1.0              109554.0   \n",
       "99998                   8.0                     0.0              404225.0   \n",
       "99999                   4.0                     1.0               45600.0   \n",
       "\n",
       "       ...  Purpose_Medical Bills  Purpose_Other  Purpose_Take a Trip  \\\n",
       "0      ...                      0              0                    0   \n",
       "1      ...                      0              0                    0   \n",
       "2      ...                      0              0                    0   \n",
       "3      ...                      0              0                    0   \n",
       "4      ...                      0              0                    0   \n",
       "...    ...                    ...            ...                  ...   \n",
       "99995  ...                      0              0                    0   \n",
       "99996  ...                      0              0                    0   \n",
       "99997  ...                      0              0                    0   \n",
       "99998  ...                      0              0                    0   \n",
       "99999  ...                      0              0                    0   \n",
       "\n",
       "       Purpose_major_purchase  Purpose_moving  Purpose_other  \\\n",
       "0                           0               0              0   \n",
       "1                           0               0              0   \n",
       "2                           0               0              0   \n",
       "3                           0               0              0   \n",
       "4                           0               0              0   \n",
       "...                       ...             ...            ...   \n",
       "99995                       0               0              1   \n",
       "99996                       0               0              0   \n",
       "99997                       0               0              0   \n",
       "99998                       0               0              0   \n",
       "99999                       0               0              0   \n",
       "\n",
       "       Purpose_renewable_energy  Purpose_small_business  Purpose_vacation  \\\n",
       "0                             0                       0                 0   \n",
       "1                             0                       0                 0   \n",
       "2                             0                       0                 0   \n",
       "3                             0                       0                 0   \n",
       "4                             0                       0                 0   \n",
       "...                         ...                     ...               ...   \n",
       "99995                         0                       0                 0   \n",
       "99996                         0                       0                 0   \n",
       "99997                         0                       0                 0   \n",
       "99998                         0                       0                 0   \n",
       "99999                         0                       0                 0   \n",
       "\n",
       "       Purpose_wedding  \n",
       "0                    0  \n",
       "1                    0  \n",
       "2                    0  \n",
       "3                    0  \n",
       "4                    0  \n",
       "...                ...  \n",
       "99995                0  \n",
       "99996                0  \n",
       "99997                0  \n",
       "99998                0  \n",
       "99999                0  \n",
       "\n",
       "[99796 rows x 38 columns]"
      ]
     },
     "execution_count": 65,
     "metadata": {},
     "output_type": "execute_result"
    }
   ],
   "source": [
    "X"
   ]
  },
  {
   "cell_type": "code",
   "execution_count": 66,
   "id": "c1104dfb",
   "metadata": {},
   "outputs": [],
   "source": [
    "#Dividing our train data set\n",
    "from sklearn.model_selection import train_test_split\n",
    "X_train, X_test, Y_train, Y_test = train_test_split(X,Y, test_size=0.3, random_state=0)"
   ]
  },
  {
   "cell_type": "code",
   "execution_count": 67,
   "id": "3cefc10a",
   "metadata": {},
   "outputs": [
    {
     "data": {
      "text/plain": [
       "CurrentLoanAmount               False\n",
       "CreditScore                     False\n",
       "AnnualIncome                    False\n",
       "Yearsincurrentjob               False\n",
       "MonthlyDebt                     False\n",
       "YearsofCreditHistory            False\n",
       "Monthssincelastdelinquent       False\n",
       "NumberofOpenAccounts            False\n",
       "NumberofCreditProblems          False\n",
       "CurrentCreditBalance            False\n",
       "MaximumOpenCredit                True\n",
       "Bankruptcies                    False\n",
       "TaxLiens                        False\n",
       "AnnualIncome_log                False\n",
       "CurrentLoanAmount_log           False\n",
       "CreditScore_log                 False\n",
       "Term_Long Term                  False\n",
       "Term_Short Term                 False\n",
       "HomeOwnership_HaveMortgage      False\n",
       "HomeOwnership_Home Mortgage     False\n",
       "HomeOwnership_Own Home          False\n",
       "HomeOwnership_Rent              False\n",
       "Purpose_Business Loan           False\n",
       "Purpose_Buy House               False\n",
       "Purpose_Buy a Car               False\n",
       "Purpose_Debt Consolidation      False\n",
       "Purpose_Educational Expenses    False\n",
       "Purpose_Home Improvements       False\n",
       "Purpose_Medical Bills           False\n",
       "Purpose_Other                   False\n",
       "Purpose_Take a Trip             False\n",
       "Purpose_major_purchase          False\n",
       "Purpose_moving                  False\n",
       "Purpose_other                   False\n",
       "Purpose_renewable_energy        False\n",
       "Purpose_small_business          False\n",
       "Purpose_vacation                False\n",
       "Purpose_wedding                 False\n",
       "dtype: bool"
      ]
     },
     "execution_count": 67,
     "metadata": {},
     "output_type": "execute_result"
    }
   ],
   "source": [
    "#somehow NAN value snucked in for Maximum open credit\n",
    "X_train.isnull().any()"
   ]
  },
  {
   "cell_type": "code",
   "execution_count": 68,
   "id": "a28945eb",
   "metadata": {},
   "outputs": [
    {
     "name": "stderr",
     "output_type": "stream",
     "text": [
      "C:\\Users\\theam\\anaconda3\\lib\\site-packages\\pandas\\core\\generic.py:5494: SettingWithCopyWarning: \n",
      "A value is trying to be set on a copy of a slice from a DataFrame.\n",
      "Try using .loc[row_indexer,col_indexer] = value instead\n",
      "\n",
      "See the caveats in the documentation: https://pandas.pydata.org/pandas-docs/stable/user_guide/indexing.html#returning-a-view-versus-a-copy\n",
      "  self[name] = value\n"
     ]
    }
   ],
   "source": [
    "X_train.MaximumOpenCredit = X_train.MaximumOpenCredit.fillna(X_train.MaximumOpenCredit.mean())"
   ]
  },
  {
   "cell_type": "raw",
   "id": "2a587050",
   "metadata": {},
   "source": [
    "# cannot drop the null value if we do so following error will come up \"ValueError: Found input variables with inconsistent numbers of samples: [69856, 69857]\""
   ]
  },
  {
   "cell_type": "code",
   "execution_count": 69,
   "id": "5584dc74",
   "metadata": {},
   "outputs": [
    {
     "data": {
      "text/plain": [
       "CurrentLoanAmount               False\n",
       "CreditScore                     False\n",
       "AnnualIncome                    False\n",
       "Yearsincurrentjob               False\n",
       "MonthlyDebt                     False\n",
       "YearsofCreditHistory            False\n",
       "Monthssincelastdelinquent       False\n",
       "NumberofOpenAccounts            False\n",
       "NumberofCreditProblems          False\n",
       "CurrentCreditBalance            False\n",
       "MaximumOpenCredit               False\n",
       "Bankruptcies                    False\n",
       "TaxLiens                        False\n",
       "AnnualIncome_log                False\n",
       "CurrentLoanAmount_log           False\n",
       "CreditScore_log                 False\n",
       "Term_Long Term                  False\n",
       "Term_Short Term                 False\n",
       "HomeOwnership_HaveMortgage      False\n",
       "HomeOwnership_Home Mortgage     False\n",
       "HomeOwnership_Own Home          False\n",
       "HomeOwnership_Rent              False\n",
       "Purpose_Business Loan           False\n",
       "Purpose_Buy House               False\n",
       "Purpose_Buy a Car               False\n",
       "Purpose_Debt Consolidation      False\n",
       "Purpose_Educational Expenses    False\n",
       "Purpose_Home Improvements       False\n",
       "Purpose_Medical Bills           False\n",
       "Purpose_Other                   False\n",
       "Purpose_Take a Trip             False\n",
       "Purpose_major_purchase          False\n",
       "Purpose_moving                  False\n",
       "Purpose_other                   False\n",
       "Purpose_renewable_energy        False\n",
       "Purpose_small_business          False\n",
       "Purpose_vacation                False\n",
       "Purpose_wedding                 False\n",
       "dtype: bool"
      ]
     },
     "execution_count": 69,
     "metadata": {},
     "output_type": "execute_result"
    }
   ],
   "source": [
    "X_train.isnull().any()"
   ]
  },
  {
   "cell_type": "code",
   "execution_count": 70,
   "id": "d208a3da",
   "metadata": {},
   "outputs": [
    {
     "data": {
      "text/plain": [
       "LogisticRegression()"
      ]
     },
     "execution_count": 70,
     "metadata": {},
     "output_type": "execute_result"
    }
   ],
   "source": [
    "from sklearn.linear_model import LogisticRegression\n",
    "from sklearn.metrics import accuracy_score\n",
    "model = LogisticRegression()\n",
    "model.fit(X_train, Y_train)\n",
    "LogisticRegression()"
   ]
  },
  {
   "cell_type": "code",
   "execution_count": 71,
   "id": "cc5e7389",
   "metadata": {},
   "outputs": [
    {
     "data": {
      "text/plain": [
       "CurrentLoanAmount               False\n",
       "CreditScore                     False\n",
       "AnnualIncome                    False\n",
       "Yearsincurrentjob               False\n",
       "MonthlyDebt                     False\n",
       "YearsofCreditHistory            False\n",
       "Monthssincelastdelinquent       False\n",
       "NumberofOpenAccounts            False\n",
       "NumberofCreditProblems          False\n",
       "CurrentCreditBalance            False\n",
       "MaximumOpenCredit                True\n",
       "Bankruptcies                    False\n",
       "TaxLiens                        False\n",
       "AnnualIncome_log                False\n",
       "CurrentLoanAmount_log           False\n",
       "CreditScore_log                 False\n",
       "Term_Long Term                  False\n",
       "Term_Short Term                 False\n",
       "HomeOwnership_HaveMortgage      False\n",
       "HomeOwnership_Home Mortgage     False\n",
       "HomeOwnership_Own Home          False\n",
       "HomeOwnership_Rent              False\n",
       "Purpose_Business Loan           False\n",
       "Purpose_Buy House               False\n",
       "Purpose_Buy a Car               False\n",
       "Purpose_Debt Consolidation      False\n",
       "Purpose_Educational Expenses    False\n",
       "Purpose_Home Improvements       False\n",
       "Purpose_Medical Bills           False\n",
       "Purpose_Other                   False\n",
       "Purpose_Take a Trip             False\n",
       "Purpose_major_purchase          False\n",
       "Purpose_moving                  False\n",
       "Purpose_other                   False\n",
       "Purpose_renewable_energy        False\n",
       "Purpose_small_business          False\n",
       "Purpose_vacation                False\n",
       "Purpose_wedding                 False\n",
       "dtype: bool"
      ]
     },
     "execution_count": 71,
     "metadata": {},
     "output_type": "execute_result"
    }
   ],
   "source": [
    "X_test.isnull().any()\n"
   ]
  },
  {
   "cell_type": "code",
   "execution_count": 72,
   "id": "506bf6f9",
   "metadata": {},
   "outputs": [
    {
     "name": "stderr",
     "output_type": "stream",
     "text": [
      "C:\\Users\\theam\\anaconda3\\lib\\site-packages\\pandas\\core\\generic.py:5494: SettingWithCopyWarning: \n",
      "A value is trying to be set on a copy of a slice from a DataFrame.\n",
      "Try using .loc[row_indexer,col_indexer] = value instead\n",
      "\n",
      "See the caveats in the documentation: https://pandas.pydata.org/pandas-docs/stable/user_guide/indexing.html#returning-a-view-versus-a-copy\n",
      "  self[name] = value\n"
     ]
    }
   ],
   "source": [
    "X_test.MaximumOpenCredit = X_test.MaximumOpenCredit.fillna(X_test.MaximumOpenCredit.mean())"
   ]
  },
  {
   "cell_type": "code",
   "execution_count": 73,
   "id": "200bf793",
   "metadata": {},
   "outputs": [
    {
     "data": {
      "text/plain": [
       "0.7749089815959117"
      ]
     },
     "execution_count": 73,
     "metadata": {},
     "output_type": "execute_result"
    }
   ],
   "source": [
    "pred_cv = model.predict(X_test)\n",
    "accuracy_score(Y_test,pred_cv)"
   ]
  },
  {
   "cell_type": "raw",
   "id": "d528ce8b",
   "metadata": {},
   "source": [
    "# Our prediction is 77.4 percent accurate. "
   ]
  },
  {
   "cell_type": "code",
   "execution_count": 74,
   "id": "83eb8f60",
   "metadata": {},
   "outputs": [],
   "source": [
    "from sklearn.preprocessing import StandardScaler\n",
    "ss= StandardScaler()\n",
    "X_train=ss.fit_transform(X_train)\n",
    "X_test=ss.fit_transform(X_test)"
   ]
  },
  {
   "cell_type": "code",
   "execution_count": 75,
   "id": "9b197c6c",
   "metadata": {},
   "outputs": [
    {
     "data": {
      "text/plain": [
       "DecisionTreeClassifier(criterion='entropy', random_state=0)"
      ]
     },
     "execution_count": 75,
     "metadata": {},
     "output_type": "execute_result"
    }
   ],
   "source": [
    "from sklearn.tree import DecisionTreeClassifier\n",
    "DTClassifier = DecisionTreeClassifier(criterion=\"entropy\", random_state=0)\n",
    "DTClassifier.fit(X_train,Y_train)"
   ]
  },
  {
   "cell_type": "code",
   "execution_count": 76,
   "id": "592ce588",
   "metadata": {},
   "outputs": [
    {
     "data": {
      "text/plain": [
       "array([0., 1., 1., ..., 1., 1., 0.])"
      ]
     },
     "execution_count": 76,
     "metadata": {},
     "output_type": "execute_result"
    }
   ],
   "source": [
    "y_pred= DTClassifier.predict(X_test)\n",
    "y_pred"
   ]
  },
  {
   "cell_type": "code",
   "execution_count": 77,
   "id": "2f842ceb",
   "metadata": {},
   "outputs": [
    {
     "name": "stdout",
     "output_type": "stream",
     "text": [
      "The acccuracy of decision tree is:  0.6670563479074118\n"
     ]
    }
   ],
   "source": [
    "from sklearn import metrics\n",
    "print(\"The acccuracy of decision tree is: \", metrics.accuracy_score(y_pred,Y_test))"
   ]
  },
  {
   "cell_type": "code",
   "execution_count": 78,
   "id": "9fa5e05f",
   "metadata": {},
   "outputs": [
    {
     "data": {
      "text/plain": [
       "GaussianNB()"
      ]
     },
     "execution_count": 78,
     "metadata": {},
     "output_type": "execute_result"
    }
   ],
   "source": [
    "from sklearn.naive_bayes import GaussianNB\n",
    "NBClassifier = GaussianNB()\n",
    "NBClassifier.fit(X_train, Y_train)"
   ]
  },
  {
   "cell_type": "code",
   "execution_count": 79,
   "id": "aa6733d4",
   "metadata": {},
   "outputs": [],
   "source": [
    "y_pred = NBClassifier.predict(X_test)"
   ]
  },
  {
   "cell_type": "code",
   "execution_count": 80,
   "id": "41b55d05",
   "metadata": {},
   "outputs": [
    {
     "name": "stdout",
     "output_type": "stream",
     "text": [
      "The accuracyt of Naive Bayes is: 0.3706536624469755\n"
     ]
    }
   ],
   "source": [
    "print(\"The accuracyt of Naive Bayes is:\", metrics.accuracy_score(y_pred,Y_test))"
   ]
  },
  {
   "cell_type": "markdown",
   "id": "6ded20b7",
   "metadata": {},
   "source": [
    "# making prediction of test database "
   ]
  },
  {
   "cell_type": "code",
   "execution_count": 81,
   "id": "75b2c036",
   "metadata": {},
   "outputs": [],
   "source": [
    "from sklearn.model_selection import StratifiedKFold"
   ]
  },
  {
   "cell_type": "code",
   "execution_count": 82,
   "id": "24bfb7df",
   "metadata": {},
   "outputs": [],
   "source": [
    "X.MaximumOpenCredit = X.MaximumOpenCredit.fillna(X.MaximumOpenCredit.mean())"
   ]
  },
  {
   "cell_type": "code",
   "execution_count": 83,
   "id": "fec47ebb",
   "metadata": {
    "scrolled": true
   },
   "outputs": [
    {
     "data": {
      "text/plain": [
       "CurrentLoanAmount               0\n",
       "CreditScore                     0\n",
       "AnnualIncome                    0\n",
       "Yearsincurrentjob               0\n",
       "MonthlyDebt                     0\n",
       "YearsofCreditHistory            0\n",
       "Monthssincelastdelinquent       0\n",
       "NumberofOpenAccounts            0\n",
       "NumberofCreditProblems          0\n",
       "CurrentCreditBalance            0\n",
       "MaximumOpenCredit               0\n",
       "Bankruptcies                    0\n",
       "TaxLiens                        0\n",
       "AnnualIncome_log                0\n",
       "CurrentLoanAmount_log           0\n",
       "CreditScore_log                 0\n",
       "Term_Long Term                  0\n",
       "Term_Short Term                 0\n",
       "HomeOwnership_HaveMortgage      0\n",
       "HomeOwnership_Home Mortgage     0\n",
       "HomeOwnership_Own Home          0\n",
       "HomeOwnership_Rent              0\n",
       "Purpose_Business Loan           0\n",
       "Purpose_Buy House               0\n",
       "Purpose_Buy a Car               0\n",
       "Purpose_Debt Consolidation      0\n",
       "Purpose_Educational Expenses    0\n",
       "Purpose_Home Improvements       0\n",
       "Purpose_Medical Bills           0\n",
       "Purpose_Other                   0\n",
       "Purpose_Take a Trip             0\n",
       "Purpose_major_purchase          0\n",
       "Purpose_moving                  0\n",
       "Purpose_other                   0\n",
       "Purpose_renewable_energy        0\n",
       "Purpose_small_business          0\n",
       "Purpose_vacation                0\n",
       "Purpose_wedding                 0\n",
       "dtype: int64"
      ]
     },
     "execution_count": 83,
     "metadata": {},
     "output_type": "execute_result"
    }
   ],
   "source": [
    "X.isnull().sum()"
   ]
  },
  {
   "cell_type": "code",
   "execution_count": 90,
   "id": "c9bf1b1b",
   "metadata": {
    "scrolled": true
   },
   "outputs": [
    {
     "ename": "AttributeError",
     "evalue": "'numpy.ndarray' object has no attribute 'columns'",
     "output_type": "error",
     "traceback": [
      "\u001b[1;31m---------------------------------------------------------------------------\u001b[0m",
      "\u001b[1;31mAttributeError\u001b[0m                            Traceback (most recent call last)",
      "\u001b[1;32m<ipython-input-90-b9eed9f05392>\u001b[0m in \u001b[0;36m<module>\u001b[1;34m\u001b[0m\n\u001b[1;32m----> 1\u001b[1;33m \u001b[0mX_test\u001b[0m\u001b[1;33m.\u001b[0m\u001b[0mcolumns\u001b[0m\u001b[1;33m\u001b[0m\u001b[1;33m\u001b[0m\u001b[0m\n\u001b[0m",
      "\u001b[1;31mAttributeError\u001b[0m: 'numpy.ndarray' object has no attribute 'columns'"
     ]
    }
   ],
   "source": [
    "X_test.columns"
   ]
  },
  {
   "cell_type": "code",
   "execution_count": 85,
   "id": "13b42f16",
   "metadata": {},
   "outputs": [
    {
     "name": "stdout",
     "output_type": "stream",
     "text": [
      "\n",
      "1 of kfold 5 \n"
     ]
    },
    {
     "ename": "KeyError",
     "evalue": "\"Passing list-likes to .loc or [] with any missing labels is no longer supported. The following labels were missing: Int64Index([20727, 21428, 22259, 22748, 23124,\\n            ...\\n            98675, 99327, 99407, 99413, 99497],\\n           dtype='int64', length=160). See https://pandas.pydata.org/pandas-docs/stable/user_guide/indexing.html#deprecate-loc-reindex-listlike\"",
     "output_type": "error",
     "traceback": [
      "\u001b[1;31m---------------------------------------------------------------------------\u001b[0m",
      "\u001b[1;31mKeyError\u001b[0m                                  Traceback (most recent call last)",
      "\u001b[1;32m<ipython-input-85-9a7cde167ae9>\u001b[0m in \u001b[0;36m<module>\u001b[1;34m\u001b[0m\n\u001b[0;32m      5\u001b[0m  \u001b[0mprint\u001b[0m \u001b[1;33m(\u001b[0m\u001b[1;34m\"\\n{} of kfold {} \"\u001b[0m\u001b[1;33m.\u001b[0m\u001b[0mformat\u001b[0m\u001b[1;33m(\u001b[0m\u001b[0mi\u001b[0m\u001b[1;33m,\u001b[0m\u001b[0mkf\u001b[0m\u001b[1;33m.\u001b[0m\u001b[0mn_splits\u001b[0m\u001b[1;33m)\u001b[0m\u001b[1;33m)\u001b[0m\u001b[1;33m\u001b[0m\u001b[1;33m\u001b[0m\u001b[0m\n\u001b[0;32m      6\u001b[0m  \u001b[0mxtr\u001b[0m\u001b[1;33m,\u001b[0m\u001b[0mxvl\u001b[0m \u001b[1;33m=\u001b[0m \u001b[0mX\u001b[0m\u001b[1;33m.\u001b[0m\u001b[0miloc\u001b[0m\u001b[1;33m[\u001b[0m\u001b[0mdatatrain_index\u001b[0m\u001b[1;33m]\u001b[0m\u001b[1;33m,\u001b[0m\u001b[0mX\u001b[0m\u001b[1;33m.\u001b[0m\u001b[0miloc\u001b[0m\u001b[1;33m[\u001b[0m\u001b[0mdatatest_index\u001b[0m\u001b[1;33m]\u001b[0m\u001b[1;33m\u001b[0m\u001b[1;33m\u001b[0m\u001b[0m\n\u001b[1;32m----> 7\u001b[1;33m  \u001b[0mytr\u001b[0m\u001b[1;33m,\u001b[0m\u001b[0myvl\u001b[0m \u001b[1;33m=\u001b[0m \u001b[0mY\u001b[0m\u001b[1;33m[\u001b[0m\u001b[0mdatatrain_index\u001b[0m\u001b[1;33m]\u001b[0m\u001b[1;33m,\u001b[0m\u001b[0mY\u001b[0m\u001b[1;33m[\u001b[0m\u001b[0mdatatest_index\u001b[0m\u001b[1;33m]\u001b[0m\u001b[1;33m\u001b[0m\u001b[1;33m\u001b[0m\u001b[0m\n\u001b[0m\u001b[0;32m      8\u001b[0m  \u001b[0mmodel\u001b[0m \u001b[1;33m=\u001b[0m \u001b[0mLogisticRegression\u001b[0m\u001b[1;33m(\u001b[0m\u001b[0mrandom_state\u001b[0m\u001b[1;33m=\u001b[0m\u001b[1;36m1\u001b[0m\u001b[1;33m)\u001b[0m\u001b[1;33m\u001b[0m\u001b[1;33m\u001b[0m\u001b[0m\n\u001b[0;32m      9\u001b[0m  \u001b[0mmodel\u001b[0m\u001b[1;33m.\u001b[0m\u001b[0mfit\u001b[0m\u001b[1;33m(\u001b[0m\u001b[0mxtr\u001b[0m\u001b[1;33m,\u001b[0m\u001b[0mytr\u001b[0m\u001b[1;33m)\u001b[0m\u001b[1;33m\u001b[0m\u001b[1;33m\u001b[0m\u001b[0m\n",
      "\u001b[1;32m~\\anaconda3\\lib\\site-packages\\pandas\\core\\series.py\u001b[0m in \u001b[0;36m__getitem__\u001b[1;34m(self, key)\u001b[0m\n\u001b[0;32m    875\u001b[0m             \u001b[1;32mreturn\u001b[0m \u001b[0mself\u001b[0m\u001b[1;33m.\u001b[0m\u001b[0m_get_values\u001b[0m\u001b[1;33m(\u001b[0m\u001b[0mkey\u001b[0m\u001b[1;33m)\u001b[0m\u001b[1;33m\u001b[0m\u001b[1;33m\u001b[0m\u001b[0m\n\u001b[0;32m    876\u001b[0m \u001b[1;33m\u001b[0m\u001b[0m\n\u001b[1;32m--> 877\u001b[1;33m         \u001b[1;32mreturn\u001b[0m \u001b[0mself\u001b[0m\u001b[1;33m.\u001b[0m\u001b[0m_get_with\u001b[0m\u001b[1;33m(\u001b[0m\u001b[0mkey\u001b[0m\u001b[1;33m)\u001b[0m\u001b[1;33m\u001b[0m\u001b[1;33m\u001b[0m\u001b[0m\n\u001b[0m\u001b[0;32m    878\u001b[0m \u001b[1;33m\u001b[0m\u001b[0m\n\u001b[0;32m    879\u001b[0m     \u001b[1;32mdef\u001b[0m \u001b[0m_get_with\u001b[0m\u001b[1;33m(\u001b[0m\u001b[0mself\u001b[0m\u001b[1;33m,\u001b[0m \u001b[0mkey\u001b[0m\u001b[1;33m)\u001b[0m\u001b[1;33m:\u001b[0m\u001b[1;33m\u001b[0m\u001b[1;33m\u001b[0m\u001b[0m\n",
      "\u001b[1;32m~\\anaconda3\\lib\\site-packages\\pandas\\core\\series.py\u001b[0m in \u001b[0;36m_get_with\u001b[1;34m(self, key)\u001b[0m\n\u001b[0;32m    910\u001b[0m             \u001b[1;31m#  (i.e. self.iloc) or label-based (i.e. self.loc)\u001b[0m\u001b[1;33m\u001b[0m\u001b[1;33m\u001b[0m\u001b[1;33m\u001b[0m\u001b[0m\n\u001b[0;32m    911\u001b[0m             \u001b[1;32mif\u001b[0m \u001b[1;32mnot\u001b[0m \u001b[0mself\u001b[0m\u001b[1;33m.\u001b[0m\u001b[0mindex\u001b[0m\u001b[1;33m.\u001b[0m\u001b[0m_should_fallback_to_positional\u001b[0m\u001b[1;33m(\u001b[0m\u001b[1;33m)\u001b[0m\u001b[1;33m:\u001b[0m\u001b[1;33m\u001b[0m\u001b[1;33m\u001b[0m\u001b[0m\n\u001b[1;32m--> 912\u001b[1;33m                 \u001b[1;32mreturn\u001b[0m \u001b[0mself\u001b[0m\u001b[1;33m.\u001b[0m\u001b[0mloc\u001b[0m\u001b[1;33m[\u001b[0m\u001b[0mkey\u001b[0m\u001b[1;33m]\u001b[0m\u001b[1;33m\u001b[0m\u001b[1;33m\u001b[0m\u001b[0m\n\u001b[0m\u001b[0;32m    913\u001b[0m             \u001b[1;32melse\u001b[0m\u001b[1;33m:\u001b[0m\u001b[1;33m\u001b[0m\u001b[1;33m\u001b[0m\u001b[0m\n\u001b[0;32m    914\u001b[0m                 \u001b[1;32mreturn\u001b[0m \u001b[0mself\u001b[0m\u001b[1;33m.\u001b[0m\u001b[0miloc\u001b[0m\u001b[1;33m[\u001b[0m\u001b[0mkey\u001b[0m\u001b[1;33m]\u001b[0m\u001b[1;33m\u001b[0m\u001b[1;33m\u001b[0m\u001b[0m\n",
      "\u001b[1;32m~\\anaconda3\\lib\\site-packages\\pandas\\core\\indexing.py\u001b[0m in \u001b[0;36m__getitem__\u001b[1;34m(self, key)\u001b[0m\n\u001b[0;32m    893\u001b[0m \u001b[1;33m\u001b[0m\u001b[0m\n\u001b[0;32m    894\u001b[0m             \u001b[0mmaybe_callable\u001b[0m \u001b[1;33m=\u001b[0m \u001b[0mcom\u001b[0m\u001b[1;33m.\u001b[0m\u001b[0mapply_if_callable\u001b[0m\u001b[1;33m(\u001b[0m\u001b[0mkey\u001b[0m\u001b[1;33m,\u001b[0m \u001b[0mself\u001b[0m\u001b[1;33m.\u001b[0m\u001b[0mobj\u001b[0m\u001b[1;33m)\u001b[0m\u001b[1;33m\u001b[0m\u001b[1;33m\u001b[0m\u001b[0m\n\u001b[1;32m--> 895\u001b[1;33m             \u001b[1;32mreturn\u001b[0m \u001b[0mself\u001b[0m\u001b[1;33m.\u001b[0m\u001b[0m_getitem_axis\u001b[0m\u001b[1;33m(\u001b[0m\u001b[0mmaybe_callable\u001b[0m\u001b[1;33m,\u001b[0m \u001b[0maxis\u001b[0m\u001b[1;33m=\u001b[0m\u001b[0maxis\u001b[0m\u001b[1;33m)\u001b[0m\u001b[1;33m\u001b[0m\u001b[1;33m\u001b[0m\u001b[0m\n\u001b[0m\u001b[0;32m    896\u001b[0m \u001b[1;33m\u001b[0m\u001b[0m\n\u001b[0;32m    897\u001b[0m     \u001b[1;32mdef\u001b[0m \u001b[0m_is_scalar_access\u001b[0m\u001b[1;33m(\u001b[0m\u001b[0mself\u001b[0m\u001b[1;33m,\u001b[0m \u001b[0mkey\u001b[0m\u001b[1;33m:\u001b[0m \u001b[0mTuple\u001b[0m\u001b[1;33m)\u001b[0m\u001b[1;33m:\u001b[0m\u001b[1;33m\u001b[0m\u001b[1;33m\u001b[0m\u001b[0m\n",
      "\u001b[1;32m~\\anaconda3\\lib\\site-packages\\pandas\\core\\indexing.py\u001b[0m in \u001b[0;36m_getitem_axis\u001b[1;34m(self, key, axis)\u001b[0m\n\u001b[0;32m   1111\u001b[0m                     \u001b[1;32mraise\u001b[0m \u001b[0mValueError\u001b[0m\u001b[1;33m(\u001b[0m\u001b[1;34m\"Cannot index with multidimensional key\"\u001b[0m\u001b[1;33m)\u001b[0m\u001b[1;33m\u001b[0m\u001b[1;33m\u001b[0m\u001b[0m\n\u001b[0;32m   1112\u001b[0m \u001b[1;33m\u001b[0m\u001b[0m\n\u001b[1;32m-> 1113\u001b[1;33m                 \u001b[1;32mreturn\u001b[0m \u001b[0mself\u001b[0m\u001b[1;33m.\u001b[0m\u001b[0m_getitem_iterable\u001b[0m\u001b[1;33m(\u001b[0m\u001b[0mkey\u001b[0m\u001b[1;33m,\u001b[0m \u001b[0maxis\u001b[0m\u001b[1;33m=\u001b[0m\u001b[0maxis\u001b[0m\u001b[1;33m)\u001b[0m\u001b[1;33m\u001b[0m\u001b[1;33m\u001b[0m\u001b[0m\n\u001b[0m\u001b[0;32m   1114\u001b[0m \u001b[1;33m\u001b[0m\u001b[0m\n\u001b[0;32m   1115\u001b[0m             \u001b[1;31m# nested tuple slicing\u001b[0m\u001b[1;33m\u001b[0m\u001b[1;33m\u001b[0m\u001b[1;33m\u001b[0m\u001b[0m\n",
      "\u001b[1;32m~\\anaconda3\\lib\\site-packages\\pandas\\core\\indexing.py\u001b[0m in \u001b[0;36m_getitem_iterable\u001b[1;34m(self, key, axis)\u001b[0m\n\u001b[0;32m   1051\u001b[0m \u001b[1;33m\u001b[0m\u001b[0m\n\u001b[0;32m   1052\u001b[0m         \u001b[1;31m# A collection of keys\u001b[0m\u001b[1;33m\u001b[0m\u001b[1;33m\u001b[0m\u001b[1;33m\u001b[0m\u001b[0m\n\u001b[1;32m-> 1053\u001b[1;33m         \u001b[0mkeyarr\u001b[0m\u001b[1;33m,\u001b[0m \u001b[0mindexer\u001b[0m \u001b[1;33m=\u001b[0m \u001b[0mself\u001b[0m\u001b[1;33m.\u001b[0m\u001b[0m_get_listlike_indexer\u001b[0m\u001b[1;33m(\u001b[0m\u001b[0mkey\u001b[0m\u001b[1;33m,\u001b[0m \u001b[0maxis\u001b[0m\u001b[1;33m,\u001b[0m \u001b[0mraise_missing\u001b[0m\u001b[1;33m=\u001b[0m\u001b[1;32mFalse\u001b[0m\u001b[1;33m)\u001b[0m\u001b[1;33m\u001b[0m\u001b[1;33m\u001b[0m\u001b[0m\n\u001b[0m\u001b[0;32m   1054\u001b[0m         return self.obj._reindex_with_indexers(\n\u001b[0;32m   1055\u001b[0m             \u001b[1;33m{\u001b[0m\u001b[0maxis\u001b[0m\u001b[1;33m:\u001b[0m \u001b[1;33m[\u001b[0m\u001b[0mkeyarr\u001b[0m\u001b[1;33m,\u001b[0m \u001b[0mindexer\u001b[0m\u001b[1;33m]\u001b[0m\u001b[1;33m}\u001b[0m\u001b[1;33m,\u001b[0m \u001b[0mcopy\u001b[0m\u001b[1;33m=\u001b[0m\u001b[1;32mTrue\u001b[0m\u001b[1;33m,\u001b[0m \u001b[0mallow_dups\u001b[0m\u001b[1;33m=\u001b[0m\u001b[1;32mTrue\u001b[0m\u001b[1;33m\u001b[0m\u001b[1;33m\u001b[0m\u001b[0m\n",
      "\u001b[1;32m~\\anaconda3\\lib\\site-packages\\pandas\\core\\indexing.py\u001b[0m in \u001b[0;36m_get_listlike_indexer\u001b[1;34m(self, key, axis, raise_missing)\u001b[0m\n\u001b[0;32m   1264\u001b[0m             \u001b[0mkeyarr\u001b[0m\u001b[1;33m,\u001b[0m \u001b[0mindexer\u001b[0m\u001b[1;33m,\u001b[0m \u001b[0mnew_indexer\u001b[0m \u001b[1;33m=\u001b[0m \u001b[0max\u001b[0m\u001b[1;33m.\u001b[0m\u001b[0m_reindex_non_unique\u001b[0m\u001b[1;33m(\u001b[0m\u001b[0mkeyarr\u001b[0m\u001b[1;33m)\u001b[0m\u001b[1;33m\u001b[0m\u001b[1;33m\u001b[0m\u001b[0m\n\u001b[0;32m   1265\u001b[0m \u001b[1;33m\u001b[0m\u001b[0m\n\u001b[1;32m-> 1266\u001b[1;33m         \u001b[0mself\u001b[0m\u001b[1;33m.\u001b[0m\u001b[0m_validate_read_indexer\u001b[0m\u001b[1;33m(\u001b[0m\u001b[0mkeyarr\u001b[0m\u001b[1;33m,\u001b[0m \u001b[0mindexer\u001b[0m\u001b[1;33m,\u001b[0m \u001b[0maxis\u001b[0m\u001b[1;33m,\u001b[0m \u001b[0mraise_missing\u001b[0m\u001b[1;33m=\u001b[0m\u001b[0mraise_missing\u001b[0m\u001b[1;33m)\u001b[0m\u001b[1;33m\u001b[0m\u001b[1;33m\u001b[0m\u001b[0m\n\u001b[0m\u001b[0;32m   1267\u001b[0m         \u001b[1;32mreturn\u001b[0m \u001b[0mkeyarr\u001b[0m\u001b[1;33m,\u001b[0m \u001b[0mindexer\u001b[0m\u001b[1;33m\u001b[0m\u001b[1;33m\u001b[0m\u001b[0m\n\u001b[0;32m   1268\u001b[0m \u001b[1;33m\u001b[0m\u001b[0m\n",
      "\u001b[1;32m~\\anaconda3\\lib\\site-packages\\pandas\\core\\indexing.py\u001b[0m in \u001b[0;36m_validate_read_indexer\u001b[1;34m(self, key, indexer, axis, raise_missing)\u001b[0m\n\u001b[0;32m   1319\u001b[0m \u001b[1;33m\u001b[0m\u001b[0m\n\u001b[0;32m   1320\u001b[0m             \u001b[1;32mwith\u001b[0m \u001b[0moption_context\u001b[0m\u001b[1;33m(\u001b[0m\u001b[1;34m\"display.max_seq_items\"\u001b[0m\u001b[1;33m,\u001b[0m \u001b[1;36m10\u001b[0m\u001b[1;33m,\u001b[0m \u001b[1;34m\"display.width\"\u001b[0m\u001b[1;33m,\u001b[0m \u001b[1;36m80\u001b[0m\u001b[1;33m)\u001b[0m\u001b[1;33m:\u001b[0m\u001b[1;33m\u001b[0m\u001b[1;33m\u001b[0m\u001b[0m\n\u001b[1;32m-> 1321\u001b[1;33m                 raise KeyError(\n\u001b[0m\u001b[0;32m   1322\u001b[0m                     \u001b[1;34m\"Passing list-likes to .loc or [] with any missing labels \"\u001b[0m\u001b[1;33m\u001b[0m\u001b[1;33m\u001b[0m\u001b[0m\n\u001b[0;32m   1323\u001b[0m                     \u001b[1;34m\"is no longer supported. \"\u001b[0m\u001b[1;33m\u001b[0m\u001b[1;33m\u001b[0m\u001b[0m\n",
      "\u001b[1;31mKeyError\u001b[0m: \"Passing list-likes to .loc or [] with any missing labels is no longer supported. The following labels were missing: Int64Index([20727, 21428, 22259, 22748, 23124,\\n            ...\\n            98675, 99327, 99407, 99413, 99497],\\n           dtype='int64', length=160). See https://pandas.pydata.org/pandas-docs/stable/user_guide/indexing.html#deprecate-loc-reindex-listlike\""
     ]
    }
   ],
   "source": [
    "i=1\n",
    "mean = 0\n",
    "kf = StratifiedKFold(n_splits=5)\n",
    "for datatrain_index,datatest_index in kf.split(X,Y):\n",
    " print (\"\\n{} of kfold {} \".format(i,kf.n_splits))\n",
    " xtr,xvl = X.iloc[datatrain_index],X.iloc[datatest_index]\n",
    " ytr,yvl = Y[datatrain_index],Y[datatest_index]\n",
    " model = LogisticRegression(random_state=1)\n",
    " model.fit(xtr,ytr)\n",
    " pred_test=model.predict(xvl)\n",
    " score=accuracy_score(yvl,pred_test)\n",
    " mean += score\n",
    " print (\"accuracy_score\",score)\n",
    " i+=1\n",
    " pred_test = model.predict(datatest)\n",
    " pred = model.predict_proba(xvl)[:,1]\n",
    "print (\"\\n Mean Validation Accuracy\",mean/(i-1))"
   ]
  },
  {
   "cell_type": "code",
   "execution_count": null,
   "id": "24ad6dc3",
   "metadata": {},
   "outputs": [],
   "source": []
  },
  {
   "cell_type": "code",
   "execution_count": null,
   "id": "22bcfd1c",
   "metadata": {},
   "outputs": [],
   "source": [
    "from sklearn import metrics\n",
    "fpr, tpr, _ = metrics.roc_curve(yvl, pred)\n",
    "auc = metrics.roc_auc_score(yvl, pred)\n",
    "plt.figure(figsize=(12,8))\n",
    "plt.plot(fpr, tpr, label=\"validation, auc=\"+str(auc))\n",
    "plt.xlabel(\"False Positive Rate\")\n",
    "plt.ylabel(\"True Positive Rate\")\n",
    "plt.legend(loc=4)\n",
    "plt.show()"
   ]
  },
  {
   "cell_type": "code",
   "execution_count": null,
   "id": "23fbfa37",
   "metadata": {},
   "outputs": [],
   "source": []
  }
 ],
 "metadata": {
  "kernelspec": {
   "display_name": "Python 3",
   "language": "python",
   "name": "python3"
  },
  "language_info": {
   "codemirror_mode": {
    "name": "ipython",
    "version": 3
   },
   "file_extension": ".py",
   "mimetype": "text/x-python",
   "name": "python",
   "nbconvert_exporter": "python",
   "pygments_lexer": "ipython3",
   "version": "3.8.5"
  }
 },
 "nbformat": 4,
 "nbformat_minor": 5
}
